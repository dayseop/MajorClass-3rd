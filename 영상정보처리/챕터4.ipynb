{
 "cells": [
  {
   "cell_type": "code",
   "execution_count": 1,
   "id": "13caf147-6308-478d-831e-c3ebe5d18890",
   "metadata": {},
   "outputs": [],
   "source": [
    "import numpy as np\n",
    "import cv2"
   ]
  },
  {
   "cell_type": "code",
   "execution_count": 2,
   "id": "9834d46d-724c-42f6-8055-20677ddd2623",
   "metadata": {},
   "outputs": [
    {
     "ename": "TypeError",
     "evalue": "namedWindow() takes at most 2 arguments (3 given)",
     "output_type": "error",
     "traceback": [
      "\u001b[0;31m---------------------------------------------------------------------------\u001b[0m",
      "\u001b[0;31mTypeError\u001b[0m                                 Traceback (most recent call last)",
      "Cell \u001b[0;32mIn[2], line 7\u001b[0m\n\u001b[1;32m      5\u001b[0m cv2\u001b[38;5;241m.\u001b[39mnamedWindow(title1, cv2\u001b[38;5;241m.\u001b[39mWINDOW_AUTOSIZE)\n\u001b[1;32m      6\u001b[0m cv2\u001b[38;5;241m.\u001b[39mnamedWindow(title2)\n\u001b[0;32m----> 7\u001b[0m \u001b[43mcv2\u001b[49m\u001b[38;5;241;43m.\u001b[39;49m\u001b[43mnamedWindow\u001b[49m\u001b[43m(\u001b[49m\u001b[43mtitle1\u001b[49m\u001b[43m,\u001b[49m\u001b[43m \u001b[49m\u001b[38;5;241;43m150\u001b[39;49m\u001b[43m,\u001b[49m\u001b[43m \u001b[49m\u001b[38;5;241;43m150\u001b[39;49m\u001b[43m)\u001b[49m\n\u001b[1;32m      8\u001b[0m cv2\u001b[38;5;241m.\u001b[39mnamedWindow(title2, \u001b[38;5;241m400\u001b[39m, \u001b[38;5;241m50\u001b[39m)\n\u001b[1;32m     10\u001b[0m cv2\u001b[38;5;241m.\u001b[39mimshow(title1, image)\n",
      "\u001b[0;31mTypeError\u001b[0m: namedWindow() takes at most 2 arguments (3 given)"
     ]
    }
   ],
   "source": [
    "import numpy as np\n",
    "import cv2\n",
    "image = np.zeros((200,400), np.uint8)\n",
    "image[:] = 200\n",
    "\n",
    "title1, title2 = 'Position1', 'Posiotion2'\n",
    "cv2.namedWindow(title1, cv2.WINDOW_AUTOSIZE)\n",
    "cv2.namedWindow(title2)\n",
    "cv2.namedWindow(title1, 150, 150)\n",
    "cv2.namedWindow(title2, 400, 50)\n",
    "\n",
    "cv2.imshow(title1, image)\n",
    "cv2.imshow(title2, image)\n",
    "cv2.waitKey(0)\n",
    "cv2.destroyAllWindows()\n"
   ]
  },
  {
   "cell_type": "code",
   "execution_count": null,
   "id": "abe3326b-d586-4654-b704-f628f2964089",
   "metadata": {},
   "outputs": [],
   "source": []
  }
 ],
 "metadata": {
  "kernelspec": {
   "display_name": "Python 3 (ipykernel)",
   "language": "python",
   "name": "python3"
  },
  "language_info": {
   "codemirror_mode": {
    "name": "ipython",
    "version": 3
   },
   "file_extension": ".py",
   "mimetype": "text/x-python",
   "name": "python",
   "nbconvert_exporter": "python",
   "pygments_lexer": "ipython3",
   "version": "3.12.1"
  }
 },
 "nbformat": 4,
 "nbformat_minor": 5
}
