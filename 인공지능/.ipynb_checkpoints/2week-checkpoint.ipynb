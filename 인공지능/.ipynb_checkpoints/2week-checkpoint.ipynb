{
 "cells": [
  {
   "cell_type": "code",
   "execution_count": 39,
   "id": "dc798728-2282-4494-a9c4-3f6f9e356374",
   "metadata": {
    "tags": []
   },
   "outputs": [],
   "source": [
    "## 상태를 나타내는 클래스\n",
    "class State:\n",
    "    def __init__(self, board, goal):\n",
    "        self.board = board\n",
    "        self.goal = goal\n",
    "        \n",
    "    def get_new_board(self, i1, i2):\n",
    "        new_board = self.board[:]\n",
    "        new_board[i1], new_board[i2] = new_board[i2], new_board[i1]\n",
    "        return new_board\n",
    "    \n",
    "    def expand(self):\n",
    "        result = []\n",
    "        zero_index = self.board.index(0)\n",
    "        if not zero_index in [0, 1, 2]:\n",
    "            result.append(self.get_new_board(zero_index, zero_index-3)) ## 위\n",
    "        if not zero_index in [6, 7, 8]: ## 수업자료 오류인듯(?)\n",
    "            result.append(self.get_new_board(zero_index, zero_index+3)) ## 아래\n",
    "        if not zero_index in [0, 3, 6]:\n",
    "            result.append(self.get_new_board(zero_index, zero_index-1)) ## 왼쪽\n",
    "        if not zero_index in [2, 5, 8]:\n",
    "            result.append(self.get_new_board(zero_index, zero_index+1)) ## 오른쪽\n",
    "        return result\n",
    "\n",
    "    def __str__(self):\n",
    "        return str(self.board[:3]) + '\\n' + str(self.board[3:6]) + '\\n' + str(self.board[6:9]) + '\\n----------------'\n",
    "    \n",
    "    def __eq__(self, other):\n",
    "        return self.board == other.board\n",
    "    \n",
    "    def __ne__(self, other):\n",
    "        return self.board != other.board"
   ]
  },
  {
   "cell_type": "code",
   "execution_count": 40,
   "id": "390e7204-c744-4e48-9833-e3aa3c9031d7",
   "metadata": {
    "tags": []
   },
   "outputs": [
    {
     "name": "stdout",
     "output_type": "stream",
     "text": [
      "[2, 8, 3]\n",
      "[1, 0, 4]\n",
      "[7, 6, 5]\n",
      "----------------\n",
      "[2, 8, 3]\n",
      "[1, 6, 4]\n",
      "[0, 7, 5]\n",
      "----------------\n",
      "[2, 8, 3]\n",
      "[1, 6, 4]\n",
      "[7, 5, 0]\n",
      "----------------\n"
     ]
    }
   ],
   "source": [
    "puzzle = [2, 8, 3,\n",
    "          1, 6, 4,\n",
    "          7, 0, 5]\n",
    "\n",
    "goal = [1, 2, 3,\n",
    "        8, 0, 4,\n",
    "        7, 6, 5]\n",
    "\n",
    "open = []\n",
    "closed = []\n",
    "\n",
    "current = State(puzzle, goal)\n",
    "open.insert(0, current)\n",
    "\n",
    "result = current.expand()\n",
    "\n",
    "for child in result:\n",
    "    print(State(child, goal))\n",
    "    open.insert(0, State(child, goal))\n",
    "    closed.append(current)"
   ]
  },
  {
   "cell_type": "code",
   "execution_count": null,
   "id": "046b897f-2d9a-4279-bc2c-54866b5b4f6d",
   "metadata": {},
   "outputs": [],
   "source": []
  }
 ],
 "metadata": {
  "kernelspec": {
   "display_name": "Python 3 (ipykernel)",
   "language": "python",
   "name": "python3"
  },
  "language_info": {
   "codemirror_mode": {
    "name": "ipython",
    "version": 3
   },
   "file_extension": ".py",
   "mimetype": "text/x-python",
   "name": "python",
   "nbconvert_exporter": "python",
   "pygments_lexer": "ipython3",
   "version": "3.11.5"
  }
 },
 "nbformat": 4,
 "nbformat_minor": 5
}
