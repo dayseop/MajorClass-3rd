{
 "cells": [
  {
   "cell_type": "markdown",
   "id": "b5866fb4-6a10-4399-9ea4-7435e85f6e11",
   "metadata": {},
   "source": [
    "## 파이토치\n",
    "* 딥러닝 라이브러리가 아니였음\n",
    "* numpy는 gpu에 안올라감\n",
    "* 딥러닝이랑 잘 맞아서 딥러닝 라이브러리가 됨\n",
    "* 텐서 구글 파이 페이스북\n",
    "* 모든 기업에서 파이토치로 개발함\n",
    "* 텐서플로 잦은 업데이트와 문법으로 도태 됨\n",
    "* 동적프로그래밍이 가능함 : 실행 도중에 변수를 바꾸거나 새로운 입력 넣기가 가능함 (텐서플러1.0에선 불가)\n",
    "* 파이썬의 주요한 환경을 그대로 사용가능 함\n",
    "* 파이토치는 cuda 빠른 연산이 가능하다\n",
    "* 빠른 라이브러리 업데이트됨\n",
    "* 자동화됨 - 미분을 생각안해도 미분을 자동으로 해줌\n",
    "* 텐서라는 변수를 사용 함\n",
    "* 파이썬의 array나 list는 gpu 못올라가지만 텐서는 가능\n",
    "* 텐서들은 앞에 torch를 붙임 (자동으로 잡아줌)"
   ]
  },
  {
   "cell_type": "code",
   "execution_count": 3,
   "id": "7496b15f-9969-46ce-83c9-8df572047515",
   "metadata": {},
   "outputs": [],
   "source": [
    "import numpy as np\n",
    "import torch"
   ]
  },
  {
   "cell_type": "code",
   "execution_count": 2,
   "id": "f708c671-a526-4cf2-9c67-4e8806c38a76",
   "metadata": {},
   "outputs": [],
   "source": [
    "mps_device = torch.device(\"mps\")"
   ]
  },
  {
   "cell_type": "code",
   "execution_count": 3,
   "id": "c0cee3c7-3ad3-4918-9a22-27ae9ee926a7",
   "metadata": {},
   "outputs": [
    {
     "name": "stdout",
     "output_type": "stream",
     "text": [
      "<class 'list'>\n",
      "<class 'numpy.ndarray'>\n",
      "<class 'torch.Tensor'>\n"
     ]
    }
   ],
   "source": [
    "data_list = [1, 2, 3]\n",
    "data_array = np.array([1, 2, 3])\n",
    "data_tensor = torch.tensor([1, 2, 3])\n",
    "\n",
    "print(type(data_list))   ## 데이터 타입이 다르다\n",
    "print(type(data_array))\n",
    "print(type(data_tensor))"
   ]
  },
  {
   "cell_type": "code",
   "execution_count": 4,
   "id": "9ca78920-a52c-4bf7-8222-394e7a1b0608",
   "metadata": {},
   "outputs": [
    {
     "name": "stdout",
     "output_type": "stream",
     "text": [
      "torch.int64\n",
      "torch.float32\n"
     ]
    }
   ],
   "source": [
    "data_tensor = torch.tensor([1, 2, 3])    ## int\n",
    "print(data_tensor.dtype)\n",
    "\n",
    "data_tensor = torch.tensor([1., 2., 3.,]) ## float\n",
    "print(data_tensor.dtype)"
   ]
  },
  {
   "cell_type": "code",
   "execution_count": 5,
   "id": "a91e233d-4522-4048-9328-3d439832d141",
   "metadata": {},
   "outputs": [
    {
     "name": "stdout",
     "output_type": "stream",
     "text": [
      "torch.float64\n",
      "torch.int32\n",
      "tensor([1, 2, 3], dtype=torch.int32)\n"
     ]
    }
   ],
   "source": [
    "float_tensor = torch.tensor([1, 2, 3], dtype = torch.float64)\n",
    "print(float_tensor.dtype)\n",
    "\n",
    "int_tensor = torch.tensor([1.1, 2.2, 3.8,], dtype = torch.int)\n",
    "print(int_tensor.dtype)\n",
    "print(int_tensor)"
   ]
  },
  {
   "cell_type": "code",
   "execution_count": 6,
   "id": "1ac6fd81-74a4-49a8-804c-9f452ad4b993",
   "metadata": {},
   "outputs": [
    {
     "name": "stdout",
     "output_type": "stream",
     "text": [
      "torch.float32\n"
     ]
    }
   ],
   "source": [
    "convert_tensor = float_tensor.to(dtype = torch.float32)\n",
    "print(convert_tensor.dtype)"
   ]
  },
  {
   "cell_type": "code",
   "execution_count": 7,
   "id": "b14b450e-724b-407c-8c09-719d087ef687",
   "metadata": {},
   "outputs": [],
   "source": [
    "gpu_tensor = torch.tensor([1, 2, 3], dtype = torch.float32)"
   ]
  },
  {
   "cell_type": "code",
   "execution_count": 8,
   "id": "93f6aed5-4107-42ef-bcf0-61fd28d0c7bb",
   "metadata": {},
   "outputs": [],
   "source": [
    "import torch\n",
    "import torch.nn as nn\n",
    "\n",
    "class MyModel(nn.Module):\n",
    "    def __init__(self):\n",
    "        super(Myself, self).__init__() ## 필수항목 super는 부모 초기화, 필요한 네트워크 정의, 변수 정의)\n",
    "\n",
    "    def forward(self, x): ## 값이 들어오면 x로 처리하면 된다. \n",
    "\n",
    "        return 0"
   ]
  },
  {
   "cell_type": "markdown",
   "id": "980188b0-6f91-4f2d-84ce-560d9ecee9d6",
   "metadata": {},
   "source": [
    "## 파이토치 모델\n",
    "* 모델(network) 구성과 관련된 것 torch.nn에 들어 있음\n",
    "* linear reg~ 도 네트워크임\n",
    "* nn.Linear(1,1) 앞이 input size, 뒤가 output size"
   ]
  },
  {
   "cell_type": "code",
   "execution_count": 9,
   "id": "df8bc708-1fa7-4038-a5ab-b367cd251c34",
   "metadata": {},
   "outputs": [
    {
     "name": "stdout",
     "output_type": "stream",
     "text": [
      "torch.Size([6])\n",
      "torch.Size([6, 1])\n",
      "tensor([[-1.3180],\n",
      "        [-2.0552],\n",
      "        [-2.7925],\n",
      "        [-3.5297],\n",
      "        [-4.2670],\n",
      "        [-5.0042]], grad_fn=<AddmmBackward0>)\n"
     ]
    }
   ],
   "source": [
    "import torch\n",
    "import torch.nn as nn\n",
    "class MyModel(nn.Module):\n",
    "    def __init__(self):\n",
    "        super(MyModel, self).__init__()\n",
    "        self.l1 = nn.Linear(1,1)\n",
    "\n",
    "    def forward(self, x):\n",
    "        out = self.l1(x)\n",
    "\n",
    "        return out\n",
    "\n",
    "model = MyModel() ## 두번쨰 forward 실행 됨\n",
    "\n",
    "hours = torch.FloatTensor([2, 3, 4, 5, 6, 7])    ##[배치, 데이터크기] 배치 -> 메모리에 몇개 씩 올리는지 \n",
    "print(hours.shape)\n",
    "hours = hours.view(-1, 1)  ## [6,1] 올려줘야 함  reshape -> view로 사용하면 됨 \n",
    "print(hours.shape)\n",
    "\n",
    "print(model(hours)) ## w,b 설정안해도 초기화해서 랜덤으로 들어가서 출력함"
   ]
  },
  {
   "cell_type": "code",
   "execution_count": 10,
   "id": "126e38a1-0914-44b0-8e08-70cfe104cf25",
   "metadata": {},
   "outputs": [],
   "source": [
    "import torch.optim as optim\n",
    "criterion = nn.MSELoss()  ## (x-y)^2의 평균\n",
    "optimizer = optim.SGD(model.parameters(), lr = 0.01) ## parameter 학습시켜야 할 대상(w,b) (SGD -> Sto ~~ 원래는 다 넣고(-1, 1로 나오면 loss가 없는 것 처럼 보임), 데이터 섞어가면서 나눠서함), 기본보다 frequent 모델 파라미터를 업데이트, 메모리 덜 먹음, 데이터가 많아도 나눠서 하기 떄문에 시간이 덜걸림"
   ]
  },
  {
   "cell_type": "code",
   "execution_count": 11,
   "id": "cfcca89a-f438-4ca4-b8b2-34f15e045832",
   "metadata": {
    "scrolled": true
   },
   "outputs": [
    {
     "name": "stdout",
     "output_type": "stream",
     "text": [
      "Epoch [100 / 10000], Loss: 50.2609\n",
      "Epoch [200 / 10000], Loss: 46.4202\n",
      "Epoch [300 / 10000], Loss: 44.0573\n",
      "Epoch [400 / 10000], Loss: 42.6036\n",
      "Epoch [500 / 10000], Loss: 41.7093\n",
      "Epoch [600 / 10000], Loss: 41.1591\n",
      "Epoch [700 / 10000], Loss: 40.8206\n",
      "Epoch [800 / 10000], Loss: 40.6123\n",
      "Epoch [900 / 10000], Loss: 40.4842\n",
      "Epoch [1000 / 10000], Loss: 40.4054\n",
      "Epoch [1100 / 10000], Loss: 40.3569\n",
      "Epoch [1200 / 10000], Loss: 40.3271\n",
      "Epoch [1300 / 10000], Loss: 40.3087\n",
      "Epoch [1400 / 10000], Loss: 40.2974\n",
      "Epoch [1500 / 10000], Loss: 40.2905\n",
      "Epoch [1600 / 10000], Loss: 40.2862\n",
      "Epoch [1700 / 10000], Loss: 40.2836\n",
      "Epoch [1800 / 10000], Loss: 40.2819\n",
      "Epoch [1900 / 10000], Loss: 40.2810\n",
      "Epoch [2000 / 10000], Loss: 40.2804\n",
      "Epoch [2100 / 10000], Loss: 40.2800\n",
      "Epoch [2200 / 10000], Loss: 40.2797\n",
      "Epoch [2300 / 10000], Loss: 40.2796\n",
      "Epoch [2400 / 10000], Loss: 40.2795\n",
      "Epoch [2500 / 10000], Loss: 40.2795\n",
      "Epoch [2600 / 10000], Loss: 40.2794\n",
      "Epoch [2700 / 10000], Loss: 40.2794\n",
      "Epoch [2800 / 10000], Loss: 40.2794\n",
      "Epoch [2900 / 10000], Loss: 40.2794\n",
      "Epoch [3000 / 10000], Loss: 40.2794\n",
      "Epoch [3100 / 10000], Loss: 40.2794\n",
      "Epoch [3200 / 10000], Loss: 40.2794\n",
      "Epoch [3300 / 10000], Loss: 40.2794\n",
      "Epoch [3400 / 10000], Loss: 40.2793\n",
      "Epoch [3500 / 10000], Loss: 40.2794\n",
      "Epoch [3600 / 10000], Loss: 40.2794\n",
      "Epoch [3700 / 10000], Loss: 40.2794\n",
      "Epoch [3800 / 10000], Loss: 40.2794\n",
      "Epoch [3900 / 10000], Loss: 40.2794\n",
      "Epoch [4000 / 10000], Loss: 40.2793\n",
      "Epoch [4100 / 10000], Loss: 40.2794\n",
      "Epoch [4200 / 10000], Loss: 40.2794\n",
      "Epoch [4300 / 10000], Loss: 40.2794\n",
      "Epoch [4400 / 10000], Loss: 40.2794\n",
      "Epoch [4500 / 10000], Loss: 40.2794\n",
      "Epoch [4600 / 10000], Loss: 40.2794\n",
      "Epoch [4700 / 10000], Loss: 40.2794\n",
      "Epoch [4800 / 10000], Loss: 40.2794\n",
      "Epoch [4900 / 10000], Loss: 40.2794\n",
      "Epoch [5000 / 10000], Loss: 40.2794\n",
      "Epoch [5100 / 10000], Loss: 40.2794\n",
      "Epoch [5200 / 10000], Loss: 40.2794\n",
      "Epoch [5300 / 10000], Loss: 40.2794\n",
      "Epoch [5400 / 10000], Loss: 40.2794\n",
      "Epoch [5500 / 10000], Loss: 40.2794\n",
      "Epoch [5600 / 10000], Loss: 40.2794\n",
      "Epoch [5700 / 10000], Loss: 40.2794\n",
      "Epoch [5800 / 10000], Loss: 40.2794\n",
      "Epoch [5900 / 10000], Loss: 40.2794\n",
      "Epoch [6000 / 10000], Loss: 40.2794\n",
      "Epoch [6100 / 10000], Loss: 40.2794\n",
      "Epoch [6200 / 10000], Loss: 40.2794\n",
      "Epoch [6300 / 10000], Loss: 40.2794\n",
      "Epoch [6400 / 10000], Loss: 40.2794\n",
      "Epoch [6500 / 10000], Loss: 40.2794\n",
      "Epoch [6600 / 10000], Loss: 40.2794\n",
      "Epoch [6700 / 10000], Loss: 40.2794\n",
      "Epoch [6800 / 10000], Loss: 40.2794\n",
      "Epoch [6900 / 10000], Loss: 40.2794\n",
      "Epoch [7000 / 10000], Loss: 40.2794\n",
      "Epoch [7100 / 10000], Loss: 40.2794\n",
      "Epoch [7200 / 10000], Loss: 40.2794\n",
      "Epoch [7300 / 10000], Loss: 40.2794\n",
      "Epoch [7400 / 10000], Loss: 40.2794\n",
      "Epoch [7500 / 10000], Loss: 40.2794\n",
      "Epoch [7600 / 10000], Loss: 40.2794\n",
      "Epoch [7700 / 10000], Loss: 40.2794\n",
      "Epoch [7800 / 10000], Loss: 40.2794\n",
      "Epoch [7900 / 10000], Loss: 40.2794\n",
      "Epoch [8000 / 10000], Loss: 40.2794\n",
      "Epoch [8100 / 10000], Loss: 40.2794\n",
      "Epoch [8200 / 10000], Loss: 40.2794\n",
      "Epoch [8300 / 10000], Loss: 40.2794\n",
      "Epoch [8400 / 10000], Loss: 40.2794\n",
      "Epoch [8500 / 10000], Loss: 40.2794\n",
      "Epoch [8600 / 10000], Loss: 40.2794\n",
      "Epoch [8700 / 10000], Loss: 40.2794\n",
      "Epoch [8800 / 10000], Loss: 40.2794\n",
      "Epoch [8900 / 10000], Loss: 40.2794\n",
      "Epoch [9000 / 10000], Loss: 40.2794\n",
      "Epoch [9100 / 10000], Loss: 40.2794\n",
      "Epoch [9200 / 10000], Loss: 40.2794\n",
      "Epoch [9300 / 10000], Loss: 40.2794\n",
      "Epoch [9400 / 10000], Loss: 40.2794\n",
      "Epoch [9500 / 10000], Loss: 40.2794\n",
      "Epoch [9600 / 10000], Loss: 40.2794\n",
      "Epoch [9700 / 10000], Loss: 40.2794\n",
      "Epoch [9800 / 10000], Loss: 40.2794\n",
      "Epoch [9900 / 10000], Loss: 40.2794\n",
      "Epoch [10000 / 10000], Loss: 40.2794\n"
     ]
    }
   ],
   "source": [
    "h = np.array([2, 3, 4, 5, 6, 7])\n",
    "s = np.array([25, 49, 42, 57, 72, 68])\n",
    "\n",
    "hours = torch.FloatTensor(h).view(-1,1)\n",
    "score = torch.FloatTensor(s).view(-1,1)\n",
    "\n",
    "num_epochs = 10000\n",
    "\n",
    "for epoch in range(num_epochs):\n",
    "    outputs = model(hours)\n",
    "\n",
    "    optimizer.zero_grad()\n",
    "    loss = criterion(outputs, score)\n",
    "    loss.backward()\n",
    "    optimizer.step()\n",
    "\n",
    "    if(epoch+1) % 100 == 0:\n",
    "        print(f'Epoch [{epoch+1} / {num_epochs}], Loss: {loss.item():.4f}')"
   ]
  },
  {
   "cell_type": "code",
   "execution_count": 12,
   "id": "5844911f-fb2a-4b07-811a-50a3caca3628",
   "metadata": {},
   "outputs": [
    {
     "data": {
      "image/png": "[encoded data removed]",
      "text/plain": [
       "<Figure size 640x480 with 1 Axes>"
      ]
     },
     "metadata": {},
     "output_type": "display_data"
    }
   ],
   "source": [
    "import matplotlib.pyplot as plt\n",
    "\n",
    "plt.plot(h, s, 'o')\n",
    "\n",
    "x = torch.linspace(0, 10, 10)\n",
    "predict = model(x.view(-1, 1))\n",
    "predict = predict.detach().numpy() ## detach -> 원래 자동미분기가 있는데 없애고 텐서로 바꾸고 돌림\n",
    "plt.plot(x.numpy(), predict, 'r')\n",
    "\n",
    "plt.show()"
   ]
  },
  {
   "cell_type": "code",
   "execution_count": 13,
   "id": "c05de9a4-0951-4e1a-b08d-41a92c4d8d21",
   "metadata": {},
   "outputs": [
    {
     "name": "stdout",
     "output_type": "stream",
     "text": [
      "tensor([[0.9999],\n",
      "        [0.9981],\n",
      "        [0.9892],\n",
      "        [0.9741]], grad_fn=<SigmoidBackward0>)\n"
     ]
    }
   ],
   "source": [
    "import torch\n",
    "import torch.nn as nn\n",
    "class MyModel(nn.Module):\n",
    "    def __init__(self):\n",
    "        super(MyModel, self).__init__()\n",
    "        self.l1 = nn.Linear(1,1)\n",
    "        self.activation = nn.Sigmoid()\n",
    "\n",
    "    def forward(self, x):\n",
    "        out = self.l1(x)\n",
    "        out = self.activation(out)\n",
    "        return out\n",
    "\n",
    "model = MyModel() ## 두번쨰 forward 실행 됨\n",
    "\n",
    "hours = torch.FloatTensor([10, 7, 5, 4]).view(-1,1)    ##[배치, 데이터크기] 배치 -> 메모리에 몇개 씩 올리는지 \n",
    "\n",
    "print(model(hours)) ## w,b 설정안해도 초기화해서 랜덤으로 들어가서 출력함"
   ]
  },
  {
   "cell_type": "code",
   "execution_count": 14,
   "id": "f57bb0e3-5b68-4255-bb00-15bc7a3d3514",
   "metadata": {
    "scrolled": true
   },
   "outputs": [
    {
     "name": "stdout",
     "output_type": "stream",
     "text": [
      "Epoch [100/20000], Loss: 0.5634\n",
      "Epoch [200/20000], Loss: 0.4998\n",
      "Epoch [300/20000], Loss: 0.4494\n",
      "Epoch [400/20000], Loss: 0.4089\n",
      "Epoch [500/20000], Loss: 0.3758\n",
      "Epoch [600/20000], Loss: 0.3483\n",
      "Epoch [700/20000], Loss: 0.3252\n",
      "Epoch [800/20000], Loss: 0.3054\n",
      "Epoch [900/20000], Loss: 0.2883\n",
      "Epoch [1000/20000], Loss: 0.2734\n",
      "Epoch [1100/20000], Loss: 0.2603\n",
      "Epoch [1200/20000], Loss: 0.2485\n",
      "Epoch [1300/20000], Loss: 0.2380\n",
      "Epoch [1400/20000], Loss: 0.2285\n",
      "Epoch [1500/20000], Loss: 0.2198\n",
      "Epoch [1600/20000], Loss: 0.2119\n",
      "Epoch [1700/20000], Loss: 0.2047\n",
      "Epoch [1800/20000], Loss: 0.1979\n",
      "Epoch [1900/20000], Loss: 0.1917\n",
      "Epoch [2000/20000], Loss: 0.1859\n",
      "Epoch [2100/20000], Loss: 0.1805\n",
      "Epoch [2200/20000], Loss: 0.1755\n",
      "Epoch [2300/20000], Loss: 0.1707\n",
      "Epoch [2400/20000], Loss: 0.1663\n",
      "Epoch [2500/20000], Loss: 0.1621\n",
      "Epoch [2600/20000], Loss: 0.1581\n",
      "Epoch [2700/20000], Loss: 0.1543\n",
      "Epoch [2800/20000], Loss: 0.1508\n",
      "Epoch [2900/20000], Loss: 0.1474\n",
      "Epoch [3000/20000], Loss: 0.1441\n",
      "Epoch [3100/20000], Loss: 0.1411\n",
      "Epoch [3200/20000], Loss: 0.1381\n",
      "Epoch [3300/20000], Loss: 0.1353\n",
      "Epoch [3400/20000], Loss: 0.1326\n",
      "Epoch [3500/20000], Loss: 0.1301\n",
      "Epoch [3600/20000], Loss: 0.1276\n",
      "Epoch [3700/20000], Loss: 0.1252\n",
      "Epoch [3800/20000], Loss: 0.1229\n",
      "Epoch [3900/20000], Loss: 0.1207\n",
      "Epoch [4000/20000], Loss: 0.1186\n",
      "Epoch [4100/20000], Loss: 0.1166\n",
      "Epoch [4200/20000], Loss: 0.1146\n",
      "Epoch [4300/20000], Loss: 0.1128\n",
      "Epoch [4400/20000], Loss: 0.1109\n",
      "Epoch [4500/20000], Loss: 0.1092\n",
      "Epoch [4600/20000], Loss: 0.1075\n",
      "Epoch [4700/20000], Loss: 0.1058\n",
      "Epoch [4800/20000], Loss: 0.1042\n",
      "Epoch [4900/20000], Loss: 0.1027\n",
      "Epoch [5000/20000], Loss: 0.1012\n",
      "Epoch [5100/20000], Loss: 0.0997\n",
      "Epoch [5200/20000], Loss: 0.0983\n",
      "Epoch [5300/20000], Loss: 0.0969\n",
      "Epoch [5400/20000], Loss: 0.0956\n",
      "Epoch [5500/20000], Loss: 0.0943\n",
      "Epoch [5600/20000], Loss: 0.0931\n",
      "Epoch [5700/20000], Loss: 0.0918\n",
      "Epoch [5800/20000], Loss: 0.0906\n",
      "Epoch [5900/20000], Loss: 0.0895\n",
      "Epoch [6000/20000], Loss: 0.0884\n",
      "Epoch [6100/20000], Loss: 0.0873\n",
      "Epoch [6200/20000], Loss: 0.0862\n",
      "Epoch [6300/20000], Loss: 0.0851\n",
      "Epoch [6400/20000], Loss: 0.0841\n",
      "Epoch [6500/20000], Loss: 0.0831\n",
      "Epoch [6600/20000], Loss: 0.0822\n",
      "Epoch [6700/20000], Loss: 0.0812\n",
      "Epoch [6800/20000], Loss: 0.0803\n",
      "Epoch [6900/20000], Loss: 0.0794\n",
      "Epoch [7000/20000], Loss: 0.0785\n",
      "Epoch [7100/20000], Loss: 0.0777\n",
      "Epoch [7200/20000], Loss: 0.0768\n",
      "Epoch [7300/20000], Loss: 0.0760\n",
      "Epoch [7400/20000], Loss: 0.0752\n",
      "Epoch [7500/20000], Loss: 0.0744\n",
      "Epoch [7600/20000], Loss: 0.0736\n",
      "Epoch [7700/20000], Loss: 0.0729\n",
      "Epoch [7800/20000], Loss: 0.0721\n",
      "Epoch [7900/20000], Loss: 0.0714\n",
      "Epoch [8000/20000], Loss: 0.0707\n",
      "Epoch [8100/20000], Loss: 0.0700\n",
      "Epoch [8200/20000], Loss: 0.0693\n",
      "Epoch [8300/20000], Loss: 0.0687\n",
      "Epoch [8400/20000], Loss: 0.0680\n",
      "Epoch [8500/20000], Loss: 0.0674\n",
      "Epoch [8600/20000], Loss: 0.0667\n",
      "Epoch [8700/20000], Loss: 0.0661\n",
      "Epoch [8800/20000], Loss: 0.0655\n",
      "Epoch [8900/20000], Loss: 0.0649\n",
      "Epoch [9000/20000], Loss: 0.0643\n",
      "Epoch [9100/20000], Loss: 0.0638\n",
      "Epoch [9200/20000], Loss: 0.0632\n",
      "Epoch [9300/20000], Loss: 0.0626\n",
      "Epoch [9400/20000], Loss: 0.0621\n",
      "Epoch [9500/20000], Loss: 0.0616\n",
      "Epoch [9600/20000], Loss: 0.0610\n",
      "Epoch [9700/20000], Loss: 0.0605\n",
      "Epoch [9800/20000], Loss: 0.0600\n",
      "Epoch [9900/20000], Loss: 0.0595\n",
      "Epoch [10000/20000], Loss: 0.0590\n",
      "Epoch [10100/20000], Loss: 0.0586\n",
      "Epoch [10200/20000], Loss: 0.0581\n",
      "Epoch [10300/20000], Loss: 0.0576\n",
      "Epoch [10400/20000], Loss: 0.0572\n",
      "Epoch [10500/20000], Loss: 0.0567\n",
      "Epoch [10600/20000], Loss: 0.0563\n",
      "Epoch [10700/20000], Loss: 0.0558\n",
      "Epoch [10800/20000], Loss: 0.0554\n",
      "Epoch [10900/20000], Loss: 0.0550\n",
      "Epoch [11000/20000], Loss: 0.0546\n",
      "Epoch [11100/20000], Loss: 0.0541\n",
      "Epoch [11200/20000], Loss: 0.0537\n",
      "Epoch [11300/20000], Loss: 0.0533\n",
      "Epoch [11400/20000], Loss: 0.0530\n",
      "Epoch [11500/20000], Loss: 0.0526\n",
      "Epoch [11600/20000], Loss: 0.0522\n",
      "Epoch [11700/20000], Loss: 0.0518\n",
      "Epoch [11800/20000], Loss: 0.0514\n",
      "Epoch [11900/20000], Loss: 0.0511\n",
      "Epoch [12000/20000], Loss: 0.0507\n",
      "Epoch [12100/20000], Loss: 0.0504\n",
      "Epoch [12200/20000], Loss: 0.0500\n",
      "Epoch [12300/20000], Loss: 0.0497\n",
      "Epoch [12400/20000], Loss: 0.0493\n",
      "Epoch [12500/20000], Loss: 0.0490\n",
      "Epoch [12600/20000], Loss: 0.0487\n",
      "Epoch [12700/20000], Loss: 0.0484\n",
      "Epoch [12800/20000], Loss: 0.0480\n",
      "Epoch [12900/20000], Loss: 0.0477\n",
      "Epoch [13000/20000], Loss: 0.0474\n",
      "Epoch [13100/20000], Loss: 0.0471\n",
      "Epoch [13200/20000], Loss: 0.0468\n",
      "Epoch [13300/20000], Loss: 0.0465\n",
      "Epoch [13400/20000], Loss: 0.0462\n",
      "Epoch [13500/20000], Loss: 0.0459\n",
      "Epoch [13600/20000], Loss: 0.0456\n",
      "Epoch [13700/20000], Loss: 0.0453\n",
      "Epoch [13800/20000], Loss: 0.0450\n",
      "Epoch [13900/20000], Loss: 0.0448\n",
      "Epoch [14000/20000], Loss: 0.0445\n",
      "Epoch [14100/20000], Loss: 0.0442\n",
      "Epoch [14200/20000], Loss: 0.0440\n",
      "Epoch [14300/20000], Loss: 0.0437\n",
      "Epoch [14400/20000], Loss: 0.0434\n",
      "Epoch [14500/20000], Loss: 0.0432\n",
      "Epoch [14600/20000], Loss: 0.0429\n",
      "Epoch [14700/20000], Loss: 0.0427\n",
      "Epoch [14800/20000], Loss: 0.0424\n",
      "Epoch [14900/20000], Loss: 0.0422\n",
      "Epoch [15000/20000], Loss: 0.0419\n",
      "Epoch [15100/20000], Loss: 0.0417\n",
      "Epoch [15200/20000], Loss: 0.0414\n",
      "Epoch [15300/20000], Loss: 0.0412\n",
      "Epoch [15400/20000], Loss: 0.0410\n",
      "Epoch [15500/20000], Loss: 0.0407\n",
      "Epoch [15600/20000], Loss: 0.0405\n",
      "Epoch [15700/20000], Loss: 0.0403\n",
      "Epoch [15800/20000], Loss: 0.0401\n",
      "Epoch [15900/20000], Loss: 0.0399\n",
      "Epoch [16000/20000], Loss: 0.0396\n",
      "Epoch [16100/20000], Loss: 0.0394\n",
      "Epoch [16200/20000], Loss: 0.0392\n",
      "Epoch [16300/20000], Loss: 0.0390\n",
      "Epoch [16400/20000], Loss: 0.0388\n",
      "Epoch [16500/20000], Loss: 0.0386\n",
      "Epoch [16600/20000], Loss: 0.0384\n",
      "Epoch [16700/20000], Loss: 0.0382\n",
      "Epoch [16800/20000], Loss: 0.0380\n",
      "Epoch [16900/20000], Loss: 0.0378\n",
      "Epoch [17000/20000], Loss: 0.0376\n",
      "Epoch [17100/20000], Loss: 0.0374\n",
      "Epoch [17200/20000], Loss: 0.0372\n",
      "Epoch [17300/20000], Loss: 0.0370\n",
      "Epoch [17400/20000], Loss: 0.0368\n",
      "Epoch [17500/20000], Loss: 0.0366\n",
      "Epoch [17600/20000], Loss: 0.0365\n",
      "Epoch [17700/20000], Loss: 0.0363\n",
      "Epoch [17800/20000], Loss: 0.0361\n",
      "Epoch [17900/20000], Loss: 0.0359\n",
      "Epoch [18000/20000], Loss: 0.0357\n",
      "Epoch [18100/20000], Loss: 0.0356\n",
      "Epoch [18200/20000], Loss: 0.0354\n",
      "Epoch [18300/20000], Loss: 0.0352\n",
      "Epoch [18400/20000], Loss: 0.0351\n",
      "Epoch [18500/20000], Loss: 0.0349\n",
      "Epoch [18600/20000], Loss: 0.0347\n",
      "Epoch [18700/20000], Loss: 0.0346\n",
      "Epoch [18800/20000], Loss: 0.0344\n",
      "Epoch [18900/20000], Loss: 0.0342\n",
      "Epoch [19000/20000], Loss: 0.0341\n",
      "Epoch [19100/20000], Loss: 0.0339\n",
      "Epoch [19200/20000], Loss: 0.0338\n",
      "Epoch [19300/20000], Loss: 0.0336\n",
      "Epoch [19400/20000], Loss: 0.0335\n",
      "Epoch [19500/20000], Loss: 0.0333\n",
      "Epoch [19600/20000], Loss: 0.0332\n",
      "Epoch [19700/20000], Loss: 0.0330\n",
      "Epoch [19800/20000], Loss: 0.0329\n",
      "Epoch [19900/20000], Loss: 0.0327\n",
      "Epoch [20000/20000], Loss: 0.0326\n"
     ]
    }
   ],
   "source": [
    "import torch.optim as optim\n",
    "criterion = nn.BCELoss()\n",
    "optimizer = optim.SGD(model.parameters(), lr=0.05)\n",
    "h = np.array([10, 7, 5, 4])\n",
    "s = np.array([1, 1, 0, 0])\n",
    "hours = torch.FloatTensor(h).view(-1,1)\n",
    "score = torch.FloatTensor(s).view(-1,1)\n",
    "num_epochs = 20000\n",
    "for epoch in range(num_epochs):\n",
    "    # Forward pass\n",
    "    outputs = model(hours)\n",
    "    loss = criterion(outputs, score)\n",
    "    # Backward and optimize\n",
    "    optimizer.zero_grad()\n",
    "    loss.backward()\n",
    "    optimizer.step()\n",
    "    if (epoch+1) % 100 == 0:\n",
    "        print(f'Epoch [{epoch+1}/{num_epochs}], Loss: {loss.item():.4f}')"
   ]
  },
  {
   "cell_type": "code",
   "execution_count": 15,
   "id": "1a16f2d1-277c-4454-a306-af16774d4b11",
   "metadata": {},
   "outputs": [
    {
     "data": {
      "image/png": "[encoded data removed]",
      "text/plain": [
       "<Figure size 640x480 with 1 Axes>"
      ]
     },
     "metadata": {},
     "output_type": "display_data"
    }
   ],
   "source": [
    "# evaluation\n",
    "import matplotlib.pyplot as plt\n",
    "model.eval()\n",
    "plt.plot(h, s, 'o')\n",
    "x = torch.linspace(0, 10, 100)\n",
    "predict = model(x.view(-1,1))\n",
    "predict = predict.detach().numpy()\n",
    "plt.plot(x.numpy(), predict, 'r')\n",
    "plt.show()"
   ]
  },
  {
   "cell_type": "code",
   "execution_count": null,
   "id": "6d3b3641-af7a-4d6f-92fb-c3d641d31993",
   "metadata": {},
   "outputs": [],
   "source": []
  },
  {
   "cell_type": "code",
   "execution_count": 16,
   "id": "c995808c-318c-47ab-b342-b0938b2064e4",
   "metadata": {},
   "outputs": [],
   "source": [
    "## F 공부하기"
   ]
  },
  {
   "cell_type": "code",
   "execution_count": 30,
   "id": "8f2c4663-9f03-4a5d-a540-16e794e5a948",
   "metadata": {},
   "outputs": [],
   "source": [
    "import torch\n",
    "import torch.nn as nn\n",
    "import torch.nn.functional as F\n",
    "\n",
    "class XOR_Model(nn.Module):\n",
    "    def __init__(self):\n",
    "        super(XOR_Model, self).__init__()\n",
    "        self.l1 = nn.Linear(2, 8)\n",
    "        self.l2 = nn.Linear(8, 4)\n",
    "        self.l3 = nn.Linear(4, 1)\n",
    "        self.activation = nn.Sigmoid()\n",
    "        \n",
    "    def forward(self, x):\n",
    "        out = self.l1(x)\n",
    "        out = self.activation(out)\n",
    "        out = self.activation(self.l2(out))\n",
    "        out = F.sigmoid(self.l3(out))\n",
    "        \n",
    "        return out\n",
    "\n",
    "model = XOR_Model() ## 두번쨰 forward 실행 됨"
   ]
  },
  {
   "cell_type": "code",
   "execution_count": 31,
   "id": "1f97a3d7-61e1-4648-951c-c1214afe7ab7",
   "metadata": {
    "scrolled": true
   },
   "outputs": [
    {
     "name": "stdout",
     "output_type": "stream",
     "text": [
      "Epoch [100/20000], Loss: 0.6931\n",
      "Epoch [200/20000], Loss: 0.6931\n",
      "Epoch [300/20000], Loss: 0.6931\n",
      "Epoch [400/20000], Loss: 0.6931\n",
      "Epoch [500/20000], Loss: 0.6931\n",
      "Epoch [600/20000], Loss: 0.6931\n",
      "Epoch [700/20000], Loss: 0.6931\n",
      "Epoch [800/20000], Loss: 0.6931\n",
      "Epoch [900/20000], Loss: 0.6931\n",
      "Epoch [1000/20000], Loss: 0.6931\n",
      "Epoch [1100/20000], Loss: 0.6931\n",
      "Epoch [1200/20000], Loss: 0.6930\n",
      "Epoch [1300/20000], Loss: 0.6930\n",
      "Epoch [1400/20000], Loss: 0.6930\n",
      "Epoch [1500/20000], Loss: 0.6930\n",
      "Epoch [1600/20000], Loss: 0.6930\n",
      "Epoch [1700/20000], Loss: 0.6930\n",
      "Epoch [1800/20000], Loss: 0.6930\n",
      "Epoch [1900/20000], Loss: 0.6930\n",
      "Epoch [2000/20000], Loss: 0.6930\n",
      "Epoch [2100/20000], Loss: 0.6930\n",
      "Epoch [2200/20000], Loss: 0.6930\n",
      "Epoch [2300/20000], Loss: 0.6930\n",
      "Epoch [2400/20000], Loss: 0.6929\n",
      "Epoch [2500/20000], Loss: 0.6929\n",
      "Epoch [2600/20000], Loss: 0.6929\n",
      "Epoch [2700/20000], Loss: 0.6929\n",
      "Epoch [2800/20000], Loss: 0.6929\n",
      "Epoch [2900/20000], Loss: 0.6929\n",
      "Epoch [3000/20000], Loss: 0.6929\n",
      "Epoch [3100/20000], Loss: 0.6929\n",
      "Epoch [3200/20000], Loss: 0.6929\n",
      "Epoch [3300/20000], Loss: 0.6928\n",
      "Epoch [3400/20000], Loss: 0.6928\n",
      "Epoch [3500/20000], Loss: 0.6928\n",
      "Epoch [3600/20000], Loss: 0.6928\n",
      "Epoch [3700/20000], Loss: 0.6928\n",
      "Epoch [3800/20000], Loss: 0.6928\n",
      "Epoch [3900/20000], Loss: 0.6928\n",
      "Epoch [4000/20000], Loss: 0.6928\n",
      "Epoch [4100/20000], Loss: 0.6927\n",
      "Epoch [4200/20000], Loss: 0.6927\n",
      "Epoch [4300/20000], Loss: 0.6927\n",
      "Epoch [4400/20000], Loss: 0.6927\n",
      "Epoch [4500/20000], Loss: 0.6927\n",
      "Epoch [4600/20000], Loss: 0.6926\n",
      "Epoch [4700/20000], Loss: 0.6926\n",
      "Epoch [4800/20000], Loss: 0.6926\n",
      "Epoch [4900/20000], Loss: 0.6926\n",
      "Epoch [5000/20000], Loss: 0.6926\n",
      "Epoch [5100/20000], Loss: 0.6925\n",
      "Epoch [5200/20000], Loss: 0.6925\n",
      "Epoch [5300/20000], Loss: 0.6925\n",
      "Epoch [5400/20000], Loss: 0.6924\n",
      "Epoch [5500/20000], Loss: 0.6924\n",
      "Epoch [5600/20000], Loss: 0.6924\n",
      "Epoch [5700/20000], Loss: 0.6923\n",
      "Epoch [5800/20000], Loss: 0.6923\n",
      "Epoch [5900/20000], Loss: 0.6923\n",
      "Epoch [6000/20000], Loss: 0.6922\n",
      "Epoch [6100/20000], Loss: 0.6922\n",
      "Epoch [6200/20000], Loss: 0.6921\n",
      "Epoch [6300/20000], Loss: 0.6921\n",
      "Epoch [6400/20000], Loss: 0.6920\n",
      "Epoch [6500/20000], Loss: 0.6920\n",
      "Epoch [6600/20000], Loss: 0.6919\n",
      "Epoch [6700/20000], Loss: 0.6918\n",
      "Epoch [6800/20000], Loss: 0.6918\n",
      "Epoch [6900/20000], Loss: 0.6917\n",
      "Epoch [7000/20000], Loss: 0.6916\n",
      "Epoch [7100/20000], Loss: 0.6915\n",
      "Epoch [7200/20000], Loss: 0.6914\n",
      "Epoch [7300/20000], Loss: 0.6913\n",
      "Epoch [7400/20000], Loss: 0.6912\n",
      "Epoch [7500/20000], Loss: 0.6910\n",
      "Epoch [7600/20000], Loss: 0.6909\n",
      "Epoch [7700/20000], Loss: 0.6907\n",
      "Epoch [7800/20000], Loss: 0.6905\n",
      "Epoch [7900/20000], Loss: 0.6903\n",
      "Epoch [8000/20000], Loss: 0.6901\n",
      "Epoch [8100/20000], Loss: 0.6898\n",
      "Epoch [8200/20000], Loss: 0.6895\n",
      "Epoch [8300/20000], Loss: 0.6892\n",
      "Epoch [8400/20000], Loss: 0.6888\n",
      "Epoch [8500/20000], Loss: 0.6884\n",
      "Epoch [8600/20000], Loss: 0.6879\n",
      "Epoch [8700/20000], Loss: 0.6873\n",
      "Epoch [8800/20000], Loss: 0.6867\n",
      "Epoch [8900/20000], Loss: 0.6859\n",
      "Epoch [9000/20000], Loss: 0.6850\n",
      "Epoch [9100/20000], Loss: 0.6839\n",
      "Epoch [9200/20000], Loss: 0.6825\n",
      "Epoch [9300/20000], Loss: 0.6809\n",
      "Epoch [9400/20000], Loss: 0.6788\n",
      "Epoch [9500/20000], Loss: 0.6763\n",
      "Epoch [9600/20000], Loss: 0.6731\n",
      "Epoch [9700/20000], Loss: 0.6689\n",
      "Epoch [9800/20000], Loss: 0.6634\n",
      "Epoch [9900/20000], Loss: 0.6560\n",
      "Epoch [10000/20000], Loss: 0.6459\n",
      "Epoch [10100/20000], Loss: 0.6318\n",
      "Epoch [10200/20000], Loss: 0.6115\n",
      "Epoch [10300/20000], Loss: 0.5822\n",
      "Epoch [10400/20000], Loss: 0.5396\n",
      "Epoch [10500/20000], Loss: 0.4799\n",
      "Epoch [10600/20000], Loss: 0.4026\n",
      "Epoch [10700/20000], Loss: 0.3164\n",
      "Epoch [10800/20000], Loss: 0.2365\n",
      "Epoch [10900/20000], Loss: 0.1735\n",
      "Epoch [11000/20000], Loss: 0.1287\n",
      "Epoch [11100/20000], Loss: 0.0979\n",
      "Epoch [11200/20000], Loss: 0.0768\n",
      "Epoch [11300/20000], Loss: 0.0619\n",
      "Epoch [11400/20000], Loss: 0.0511\n",
      "Epoch [11500/20000], Loss: 0.0431\n",
      "Epoch [11600/20000], Loss: 0.0370\n",
      "Epoch [11700/20000], Loss: 0.0322\n",
      "Epoch [11800/20000], Loss: 0.0284\n",
      "Epoch [11900/20000], Loss: 0.0253\n",
      "Epoch [12000/20000], Loss: 0.0228\n",
      "Epoch [12100/20000], Loss: 0.0206\n",
      "Epoch [12200/20000], Loss: 0.0188\n",
      "Epoch [12300/20000], Loss: 0.0173\n",
      "Epoch [12400/20000], Loss: 0.0160\n",
      "Epoch [12500/20000], Loss: 0.0148\n",
      "Epoch [12600/20000], Loss: 0.0138\n",
      "Epoch [12700/20000], Loss: 0.0129\n",
      "Epoch [12800/20000], Loss: 0.0121\n",
      "Epoch [12900/20000], Loss: 0.0114\n",
      "Epoch [13000/20000], Loss: 0.0108\n",
      "Epoch [13100/20000], Loss: 0.0102\n",
      "Epoch [13200/20000], Loss: 0.0097\n",
      "Epoch [13300/20000], Loss: 0.0092\n",
      "Epoch [13400/20000], Loss: 0.0088\n",
      "Epoch [13500/20000], Loss: 0.0084\n",
      "Epoch [13600/20000], Loss: 0.0080\n",
      "Epoch [13700/20000], Loss: 0.0077\n",
      "Epoch [13800/20000], Loss: 0.0074\n",
      "Epoch [13900/20000], Loss: 0.0071\n",
      "Epoch [14000/20000], Loss: 0.0068\n",
      "Epoch [14100/20000], Loss: 0.0065\n",
      "Epoch [14200/20000], Loss: 0.0063\n",
      "Epoch [14300/20000], Loss: 0.0061\n",
      "Epoch [14400/20000], Loss: 0.0059\n",
      "Epoch [14500/20000], Loss: 0.0057\n",
      "Epoch [14600/20000], Loss: 0.0055\n",
      "Epoch [14700/20000], Loss: 0.0053\n",
      "Epoch [14800/20000], Loss: 0.0052\n",
      "Epoch [14900/20000], Loss: 0.0050\n",
      "Epoch [15000/20000], Loss: 0.0049\n",
      "Epoch [15100/20000], Loss: 0.0048\n",
      "Epoch [15200/20000], Loss: 0.0046\n",
      "Epoch [15300/20000], Loss: 0.0045\n",
      "Epoch [15400/20000], Loss: 0.0044\n",
      "Epoch [15500/20000], Loss: 0.0043\n",
      "Epoch [15600/20000], Loss: 0.0042\n",
      "Epoch [15700/20000], Loss: 0.0041\n",
      "Epoch [15800/20000], Loss: 0.0040\n",
      "Epoch [15900/20000], Loss: 0.0039\n",
      "Epoch [16000/20000], Loss: 0.0038\n",
      "Epoch [16100/20000], Loss: 0.0037\n",
      "Epoch [16200/20000], Loss: 0.0036\n",
      "Epoch [16300/20000], Loss: 0.0035\n",
      "Epoch [16400/20000], Loss: 0.0035\n",
      "Epoch [16500/20000], Loss: 0.0034\n",
      "Epoch [16600/20000], Loss: 0.0033\n",
      "Epoch [16700/20000], Loss: 0.0033\n",
      "Epoch [16800/20000], Loss: 0.0032\n",
      "Epoch [16900/20000], Loss: 0.0031\n",
      "Epoch [17000/20000], Loss: 0.0031\n",
      "Epoch [17100/20000], Loss: 0.0030\n",
      "Epoch [17200/20000], Loss: 0.0030\n",
      "Epoch [17300/20000], Loss: 0.0029\n",
      "Epoch [17400/20000], Loss: 0.0029\n",
      "Epoch [17500/20000], Loss: 0.0028\n",
      "Epoch [17600/20000], Loss: 0.0028\n",
      "Epoch [17700/20000], Loss: 0.0027\n",
      "Epoch [17800/20000], Loss: 0.0027\n",
      "Epoch [17900/20000], Loss: 0.0026\n",
      "Epoch [18000/20000], Loss: 0.0026\n",
      "Epoch [18100/20000], Loss: 0.0025\n",
      "Epoch [18200/20000], Loss: 0.0025\n",
      "Epoch [18300/20000], Loss: 0.0025\n",
      "Epoch [18400/20000], Loss: 0.0024\n",
      "Epoch [18500/20000], Loss: 0.0024\n",
      "Epoch [18600/20000], Loss: 0.0023\n",
      "Epoch [18700/20000], Loss: 0.0023\n",
      "Epoch [18800/20000], Loss: 0.0023\n",
      "Epoch [18900/20000], Loss: 0.0022\n",
      "Epoch [19000/20000], Loss: 0.0022\n",
      "Epoch [19100/20000], Loss: 0.0022\n",
      "Epoch [19200/20000], Loss: 0.0021\n",
      "Epoch [19300/20000], Loss: 0.0021\n",
      "Epoch [19400/20000], Loss: 0.0021\n",
      "Epoch [19500/20000], Loss: 0.0021\n",
      "Epoch [19600/20000], Loss: 0.0020\n",
      "Epoch [19700/20000], Loss: 0.0020\n",
      "Epoch [19800/20000], Loss: 0.0020\n",
      "Epoch [19900/20000], Loss: 0.0020\n",
      "Epoch [20000/20000], Loss: 0.0019\n",
      "tensor([[0.0016],\n",
      "        [0.9978],\n",
      "        [0.9983],\n",
      "        [0.0023]], grad_fn=<SigmoidBackward0>)\n"
     ]
    }
   ],
   "source": [
    "import torch.optim as optim\n",
    "criterion = nn.BCELoss()\n",
    "optimizer = optim.SGD(model.parameters(), lr=0.1)\n",
    "x = np.array([[0, 0],\n",
    "              [0, 1],\n",
    "              [1, 0],\n",
    "              [1, 1]])\n",
    "y = np.array([0, 1, 1, 0])\n",
    "x_t = torch.FloatTensor(x).view(x.shape[0],-1)\n",
    "y_t = torch.FloatTensor(y).view(x.shape[0],1)\n",
    "\n",
    "\n",
    "num_epochs = 20000\n",
    "\n",
    "for epoch in range(num_epochs):\n",
    "    # Forward pass\n",
    "    outputs = model(x_t)\n",
    "    loss = criterion(outputs, y_t)\n",
    "    # Backward and optimize\n",
    "    optimizer.zero_grad()\n",
    "    loss.backward()\n",
    "    optimizer.step()\n",
    "    if (epoch+1) % 100 == 0:\n",
    "        print(f'Epoch [{epoch+1}/{num_epochs}], Loss: {loss.item():.4f}')\n",
    "predict = model(x_t)\n",
    "print(predict)"
   ]
  },
  {
   "cell_type": "code",
   "execution_count": 208,
   "id": "17cc19eb-7aa4-4927-8256-6ac9573cbc25",
   "metadata": {},
   "outputs": [],
   "source": [
    "from torch.utils.data import Dataset\n",
    "class CustomDataset(Dataset):\n",
    "    def __init__(self):\n",
    "        self.x_data = [[73, 80, 75],\n",
    "                    [93, 88, 93],\n",
    "                    [89, 91, 90],\n",
    "                    [96, 98, 100],\n",
    "                    [73, 66, 70]]\n",
    "        self.y_data = [[152], [185], [180], [196], [142]]\n",
    "    def __len__(self):\n",
    "        return len(self.x_data)\n",
    "    def __getitem__(self, idx):\n",
    "        x = torch.FloatTensor(self.x_data[idx])\n",
    "        y = torch.FloatTensor(self.y_data[idx])\n",
    "        return x, y\n",
    "dataset = CustomDataset()"
   ]
  },
  {
   "cell_type": "code",
   "execution_count": 209,
   "id": "1124d651-a688-46cb-bff3-a86ed4051ed8",
   "metadata": {},
   "outputs": [
    {
     "name": "stdout",
     "output_type": "stream",
     "text": [
      "torch.Size([2, 3])\n",
      "tensor([[73., 66., 70.],\n",
      "        [73., 80., 75.]])\n",
      "torch.Size([2, 1])\n",
      "tensor([[142.],\n",
      "        [152.]])\n"
     ]
    }
   ],
   "source": [
    "from torch.utils.data import DataLoader\n",
    "dataset = CustomDataset()\n",
    "dataloader = DataLoader(dataset,\n",
    "                        batch_size=2,\n",
    "                        shuffle=True)\n",
    "data,label= next(iter(dataloader))\n",
    "print(data.shape)\n",
    "print(data)\n",
    "\n",
    "print(label.shape)\n",
    "print(label)"
   ]
  },
  {
   "cell_type": "code",
   "execution_count": 210,
   "id": "1b3e1bfd-1a59-4446-ba0c-1b4375f913a4",
   "metadata": {},
   "outputs": [],
   "source": [
    "import torch\n",
    "import torch.nn as nn\n",
    "import torch.optim as optim"
   ]
  },
  {
   "cell_type": "code",
   "execution_count": 211,
   "id": "6ab78b1a-46b5-48c9-bd64-74a0c12c9f91",
   "metadata": {},
   "outputs": [],
   "source": [
    "from sklearn.datasets import load_iris\n",
    "\n",
    "iris = load_iris()\n",
    "X = iris.data\n",
    "y = iris.target"
   ]
  },
  {
   "cell_type": "code",
   "execution_count": 212,
   "id": "be389f23-e115-4939-843a-e9e28c1119b0",
   "metadata": {},
   "outputs": [
    {
     "name": "stdout",
     "output_type": "stream",
     "text": [
      "float64\n",
      "int64\n",
      "(150, 4)\n",
      "(150,)\n"
     ]
    }
   ],
   "source": [
    "# 입력 -> 1by4\n",
    "print(X.dtype)\n",
    "print(y.dtype)\n",
    "print(X.shape)\n",
    "print(y.shape)"
   ]
  },
  {
   "cell_type": "code",
   "execution_count": 213,
   "id": "41031174-bd94-45fd-a31c-96478f2e837f",
   "metadata": {
    "scrolled": true
   },
   "outputs": [
    {
     "data": {
      "text/plain": [
       "array([[5.1, 3.5, 1.4, 0.2],\n",
       "       [4.9, 3. , 1.4, 0.2],\n",
       "       [4.7, 3.2, 1.3, 0.2],\n",
       "       [4.6, 3.1, 1.5, 0.2],\n",
       "       [5. , 3.6, 1.4, 0.2],\n",
       "       [5.4, 3.9, 1.7, 0.4],\n",
       "       [4.6, 3.4, 1.4, 0.3],\n",
       "       [5. , 3.4, 1.5, 0.2],\n",
       "       [4.4, 2.9, 1.4, 0.2],\n",
       "       [4.9, 3.1, 1.5, 0.1],\n",
       "       [5.4, 3.7, 1.5, 0.2],\n",
       "       [4.8, 3.4, 1.6, 0.2],\n",
       "       [4.8, 3. , 1.4, 0.1],\n",
       "       [4.3, 3. , 1.1, 0.1],\n",
       "       [5.8, 4. , 1.2, 0.2],\n",
       "       [5.7, 4.4, 1.5, 0.4],\n",
       "       [5.4, 3.9, 1.3, 0.4],\n",
       "       [5.1, 3.5, 1.4, 0.3],\n",
       "       [5.7, 3.8, 1.7, 0.3],\n",
       "       [5.1, 3.8, 1.5, 0.3],\n",
       "       [5.4, 3.4, 1.7, 0.2],\n",
       "       [5.1, 3.7, 1.5, 0.4],\n",
       "       [4.6, 3.6, 1. , 0.2],\n",
       "       [5.1, 3.3, 1.7, 0.5],\n",
       "       [4.8, 3.4, 1.9, 0.2],\n",
       "       [5. , 3. , 1.6, 0.2],\n",
       "       [5. , 3.4, 1.6, 0.4],\n",
       "       [5.2, 3.5, 1.5, 0.2],\n",
       "       [5.2, 3.4, 1.4, 0.2],\n",
       "       [4.7, 3.2, 1.6, 0.2],\n",
       "       [4.8, 3.1, 1.6, 0.2],\n",
       "       [5.4, 3.4, 1.5, 0.4],\n",
       "       [5.2, 4.1, 1.5, 0.1],\n",
       "       [5.5, 4.2, 1.4, 0.2],\n",
       "       [4.9, 3.1, 1.5, 0.2],\n",
       "       [5. , 3.2, 1.2, 0.2],\n",
       "       [5.5, 3.5, 1.3, 0.2],\n",
       "       [4.9, 3.6, 1.4, 0.1],\n",
       "       [4.4, 3. , 1.3, 0.2],\n",
       "       [5.1, 3.4, 1.5, 0.2],\n",
       "       [5. , 3.5, 1.3, 0.3],\n",
       "       [4.5, 2.3, 1.3, 0.3],\n",
       "       [4.4, 3.2, 1.3, 0.2],\n",
       "       [5. , 3.5, 1.6, 0.6],\n",
       "       [5.1, 3.8, 1.9, 0.4],\n",
       "       [4.8, 3. , 1.4, 0.3],\n",
       "       [5.1, 3.8, 1.6, 0.2],\n",
       "       [4.6, 3.2, 1.4, 0.2],\n",
       "       [5.3, 3.7, 1.5, 0.2],\n",
       "       [5. , 3.3, 1.4, 0.2],\n",
       "       [7. , 3.2, 4.7, 1.4],\n",
       "       [6.4, 3.2, 4.5, 1.5],\n",
       "       [6.9, 3.1, 4.9, 1.5],\n",
       "       [5.5, 2.3, 4. , 1.3],\n",
       "       [6.5, 2.8, 4.6, 1.5],\n",
       "       [5.7, 2.8, 4.5, 1.3],\n",
       "       [6.3, 3.3, 4.7, 1.6],\n",
       "       [4.9, 2.4, 3.3, 1. ],\n",
       "       [6.6, 2.9, 4.6, 1.3],\n",
       "       [5.2, 2.7, 3.9, 1.4],\n",
       "       [5. , 2. , 3.5, 1. ],\n",
       "       [5.9, 3. , 4.2, 1.5],\n",
       "       [6. , 2.2, 4. , 1. ],\n",
       "       [6.1, 2.9, 4.7, 1.4],\n",
       "       [5.6, 2.9, 3.6, 1.3],\n",
       "       [6.7, 3.1, 4.4, 1.4],\n",
       "       [5.6, 3. , 4.5, 1.5],\n",
       "       [5.8, 2.7, 4.1, 1. ],\n",
       "       [6.2, 2.2, 4.5, 1.5],\n",
       "       [5.6, 2.5, 3.9, 1.1],\n",
       "       [5.9, 3.2, 4.8, 1.8],\n",
       "       [6.1, 2.8, 4. , 1.3],\n",
       "       [6.3, 2.5, 4.9, 1.5],\n",
       "       [6.1, 2.8, 4.7, 1.2],\n",
       "       [6.4, 2.9, 4.3, 1.3],\n",
       "       [6.6, 3. , 4.4, 1.4],\n",
       "       [6.8, 2.8, 4.8, 1.4],\n",
       "       [6.7, 3. , 5. , 1.7],\n",
       "       [6. , 2.9, 4.5, 1.5],\n",
       "       [5.7, 2.6, 3.5, 1. ],\n",
       "       [5.5, 2.4, 3.8, 1.1],\n",
       "       [5.5, 2.4, 3.7, 1. ],\n",
       "       [5.8, 2.7, 3.9, 1.2],\n",
       "       [6. , 2.7, 5.1, 1.6],\n",
       "       [5.4, 3. , 4.5, 1.5],\n",
       "       [6. , 3.4, 4.5, 1.6],\n",
       "       [6.7, 3.1, 4.7, 1.5],\n",
       "       [6.3, 2.3, 4.4, 1.3],\n",
       "       [5.6, 3. , 4.1, 1.3],\n",
       "       [5.5, 2.5, 4. , 1.3],\n",
       "       [5.5, 2.6, 4.4, 1.2],\n",
       "       [6.1, 3. , 4.6, 1.4],\n",
       "       [5.8, 2.6, 4. , 1.2],\n",
       "       [5. , 2.3, 3.3, 1. ],\n",
       "       [5.6, 2.7, 4.2, 1.3],\n",
       "       [5.7, 3. , 4.2, 1.2],\n",
       "       [5.7, 2.9, 4.2, 1.3],\n",
       "       [6.2, 2.9, 4.3, 1.3],\n",
       "       [5.1, 2.5, 3. , 1.1],\n",
       "       [5.7, 2.8, 4.1, 1.3],\n",
       "       [6.3, 3.3, 6. , 2.5],\n",
       "       [5.8, 2.7, 5.1, 1.9],\n",
       "       [7.1, 3. , 5.9, 2.1],\n",
       "       [6.3, 2.9, 5.6, 1.8],\n",
       "       [6.5, 3. , 5.8, 2.2],\n",
       "       [7.6, 3. , 6.6, 2.1],\n",
       "       [4.9, 2.5, 4.5, 1.7],\n",
       "       [7.3, 2.9, 6.3, 1.8],\n",
       "       [6.7, 2.5, 5.8, 1.8],\n",
       "       [7.2, 3.6, 6.1, 2.5],\n",
       "       [6.5, 3.2, 5.1, 2. ],\n",
       "       [6.4, 2.7, 5.3, 1.9],\n",
       "       [6.8, 3. , 5.5, 2.1],\n",
       "       [5.7, 2.5, 5. , 2. ],\n",
       "       [5.8, 2.8, 5.1, 2.4],\n",
       "       [6.4, 3.2, 5.3, 2.3],\n",
       "       [6.5, 3. , 5.5, 1.8],\n",
       "       [7.7, 3.8, 6.7, 2.2],\n",
       "       [7.7, 2.6, 6.9, 2.3],\n",
       "       [6. , 2.2, 5. , 1.5],\n",
       "       [6.9, 3.2, 5.7, 2.3],\n",
       "       [5.6, 2.8, 4.9, 2. ],\n",
       "       [7.7, 2.8, 6.7, 2. ],\n",
       "       [6.3, 2.7, 4.9, 1.8],\n",
       "       [6.7, 3.3, 5.7, 2.1],\n",
       "       [7.2, 3.2, 6. , 1.8],\n",
       "       [6.2, 2.8, 4.8, 1.8],\n",
       "       [6.1, 3. , 4.9, 1.8],\n",
       "       [6.4, 2.8, 5.6, 2.1],\n",
       "       [7.2, 3. , 5.8, 1.6],\n",
       "       [7.4, 2.8, 6.1, 1.9],\n",
       "       [7.9, 3.8, 6.4, 2. ],\n",
       "       [6.4, 2.8, 5.6, 2.2],\n",
       "       [6.3, 2.8, 5.1, 1.5],\n",
       "       [6.1, 2.6, 5.6, 1.4],\n",
       "       [7.7, 3. , 6.1, 2.3],\n",
       "       [6.3, 3.4, 5.6, 2.4],\n",
       "       [6.4, 3.1, 5.5, 1.8],\n",
       "       [6. , 3. , 4.8, 1.8],\n",
       "       [6.9, 3.1, 5.4, 2.1],\n",
       "       [6.7, 3.1, 5.6, 2.4],\n",
       "       [6.9, 3.1, 5.1, 2.3],\n",
       "       [5.8, 2.7, 5.1, 1.9],\n",
       "       [6.8, 3.2, 5.9, 2.3],\n",
       "       [6.7, 3.3, 5.7, 2.5],\n",
       "       [6.7, 3. , 5.2, 2.3],\n",
       "       [6.3, 2.5, 5. , 1.9],\n",
       "       [6.5, 3. , 5.2, 2. ],\n",
       "       [6.2, 3.4, 5.4, 2.3],\n",
       "       [5.9, 3. , 5.1, 1.8]])"
      ]
     },
     "execution_count": 213,
     "metadata": {},
     "output_type": "execute_result"
    }
   ],
   "source": [
    "X"
   ]
  },
  {
   "cell_type": "code",
   "execution_count": 214,
   "id": "1c7b9717-e7cb-4602-8d55-f8c0ac065fb4",
   "metadata": {},
   "outputs": [
    {
     "data": {
      "text/plain": [
       "array([0, 0, 0, 0, 0, 0, 0, 0, 0, 0, 0, 0, 0, 0, 0, 0, 0, 0, 0, 0, 0, 0,\n",
       "       0, 0, 0, 0, 0, 0, 0, 0, 0, 0, 0, 0, 0, 0, 0, 0, 0, 0, 0, 0, 0, 0,\n",
       "       0, 0, 0, 0, 0, 0, 1, 1, 1, 1, 1, 1, 1, 1, 1, 1, 1, 1, 1, 1, 1, 1,\n",
       "       1, 1, 1, 1, 1, 1, 1, 1, 1, 1, 1, 1, 1, 1, 1, 1, 1, 1, 1, 1, 1, 1,\n",
       "       1, 1, 1, 1, 1, 1, 1, 1, 1, 1, 1, 1, 2, 2, 2, 2, 2, 2, 2, 2, 2, 2,\n",
       "       2, 2, 2, 2, 2, 2, 2, 2, 2, 2, 2, 2, 2, 2, 2, 2, 2, 2, 2, 2, 2, 2,\n",
       "       2, 2, 2, 2, 2, 2, 2, 2, 2, 2, 2, 2, 2, 2, 2, 2, 2, 2])"
      ]
     },
     "execution_count": 214,
     "metadata": {},
     "output_type": "execute_result"
    }
   ],
   "source": [
    "y"
   ]
  },
  {
   "cell_type": "code",
   "execution_count": 215,
   "id": "04cee7ed-532d-4f77-8681-7b214b7139b9",
   "metadata": {},
   "outputs": [
    {
     "name": "stdout",
     "output_type": "stream",
     "text": [
      "(120, 4)\n",
      "(30, 4)\n",
      "(120,)\n",
      "(30,)\n"
     ]
    }
   ],
   "source": [
    "from sklearn.model_selection import train_test_split\n",
    "\n",
    "X_train, X_test, y_train, y_test = train_test_split(X, y, test_size = 0.2)\n",
    "\n",
    "print(X_train.shape)\n",
    "print(X_test.shape)\n",
    "print(y_train.shape)\n",
    "print(y_test.shape)"
   ]
  },
  {
   "cell_type": "code",
   "execution_count": 216,
   "id": "898ddebc-d9b6-46c9-a450-01ad284bd467",
   "metadata": {},
   "outputs": [],
   "source": [
    "X_train_tensor = torch.tensor(X_train, dtype = torch.float32)\n",
    "X_test_tensor = torch.tensor(X_test, dtype = torch.float32)\n",
    "y_train_tensor = torch.tensor(y_train, dtype = torch.long)\n",
    "y_test_tensor = torch.tensor(y_test, dtype = torch.long)"
   ]
  },
  {
   "cell_type": "code",
   "execution_count": 217,
   "id": "c12144a5-3c42-4d85-815c-93f39981e0b3",
   "metadata": {},
   "outputs": [],
   "source": [
    "from torch.utils.data import DataLoader, TensorDataset\n",
    "\n",
    "train_dataset = TensorDataset(X_train_tensor, y_train_tensor)\n",
    "train_loader = DataLoader(train_dataset, batch_size=16, shuffle=True)\n",
    "\n",
    "test_dataset = TensorDataset(X_test_tensor, y_test_tensor)\n",
    "test_loader = DataLoader(test_dataset, batch_size = 16, shuffle=False)"
   ]
  },
  {
   "cell_type": "code",
   "execution_count": 218,
   "id": "7a27cfe6-e189-4855-8ff4-464a36b25137",
   "metadata": {},
   "outputs": [],
   "source": [
    "x_in, y_out = next(iter(train_loader))"
   ]
  },
  {
   "cell_type": "code",
   "execution_count": 219,
   "id": "f48bcb51-ce6f-4fd4-9c5f-7d08e53efad1",
   "metadata": {},
   "outputs": [
    {
     "name": "stdout",
     "output_type": "stream",
     "text": [
      "torch.Size([16, 4])\n",
      "torch.Size([16])\n"
     ]
    }
   ],
   "source": [
    "print(x_in.shape)\n",
    "print(y_out.shape)"
   ]
  },
  {
   "cell_type": "code",
   "execution_count": 220,
   "id": "d5cb660e-4a8c-4b04-acd2-660453de339a",
   "metadata": {},
   "outputs": [],
   "source": [
    "import torch.nn.functional as F\n",
    "\n",
    "class myModel(nn.Module): ## nn.모델 상속\n",
    "    def __init__(self):\n",
    "        super(myModel, self).__init__() ## 상속 받은 거 초기화\n",
    "        self.fc1 = nn.Linear(4, 100)    ## 입력의 크기 4, 아웃풋 100개\n",
    "        self.fc2 = nn.Linear(100, 3)    ## 출력받은 100개를 입력으로 넣고 3개로 출력\n",
    "        # self.act = nn.Sigmoid() \n",
    "\n",
    "    \n",
    "    def forward(self, x):\n",
    "        x = F.sigmoid(self.fc1(x)) ## 활성화 함수  미리 정하지 않았는데 쓰고  싶은 경우\n",
    "        # self.act(self.fc1(x))\n",
    "        x = self.fc2(x)\n",
    "        # x = F.softmax.fc2(x) 이렇게 불가능함 \n",
    "        return x"
   ]
  },
  {
   "cell_type": "code",
   "execution_count": 221,
   "id": "d9bd4820-f054-4d4d-babe-be602620c3c0",
   "metadata": {},
   "outputs": [
    {
     "name": "stdout",
     "output_type": "stream",
     "text": [
      "myModel(\n",
      "  (fc1): Linear(in_features=4, out_features=100, bias=True)\n",
      "  (fc2): Linear(in_features=100, out_features=3, bias=True)\n",
      ")\n"
     ]
    }
   ],
   "source": [
    "model = myModel()\n",
    "print(model)"
   ]
  },
  {
   "cell_type": "code",
   "execution_count": 222,
   "id": "e3db018e-75a1-43fc-a73e-2914354eaa72",
   "metadata": {},
   "outputs": [
    {
     "name": "stdout",
     "output_type": "stream",
     "text": [
      "----------------------------------------------------------------\n",
      "        Layer (type)               Output Shape         Param #\n",
      "================================================================\n",
      "            Linear-1               [-1, 1, 100]             500\n",
      "            Linear-2                 [-1, 1, 3]             303\n",
      "================================================================\n",
      "Total params: 803\n",
      "Trainable params: 803\n",
      "Non-trainable params: 0\n",
      "----------------------------------------------------------------\n",
      "Input size (MB): 0.00\n",
      "Forward/backward pass size (MB): 0.00\n",
      "Params size (MB): 0.00\n",
      "Estimated Total Size (MB): 0.00\n",
      "----------------------------------------------------------------\n"
     ]
    }
   ],
   "source": [
    "model = myModel()\n",
    "\n",
    "from torchsummary import summary\n",
    "summary(model, (1,4), device = 'cpu')"
   ]
  },
  {
   "cell_type": "code",
   "execution_count": 223,
   "id": "b66a42ca-f8ad-48ca-ab48-9d43be29421e",
   "metadata": {},
   "outputs": [],
   "source": [
    "criterion = nn.CrossEntropyLoss()  ## softmax 함수가 구현되어져 있음 함수짤때 생각\n",
    "optimizer = optim.SGD(model.parameters(), lr = 0.001) ## "
   ]
  },
  {
   "cell_type": "code",
   "execution_count": 224,
   "id": "b6c441e1-116d-43d1-98d6-5d109fd675a9",
   "metadata": {
    "scrolled": true
   },
   "outputs": [
    {
     "name": "stdout",
     "output_type": "stream",
     "text": [
      "Epoch 10, Loss: 1.0768057107925415\n",
      "Epoch 20, Loss: 1.0456739664077759\n",
      "Epoch 30, Loss: 1.053147315979004\n",
      "Epoch 40, Loss: 1.0311355590820312\n",
      "Epoch 50, Loss: 1.0503257513046265\n",
      "Epoch 60, Loss: 1.0057786703109741\n",
      "Epoch 70, Loss: 0.9998794198036194\n",
      "Epoch 80, Loss: 0.9615100622177124\n",
      "Epoch 90, Loss: 0.9752808809280396\n",
      "Epoch 100, Loss: 0.9790101647377014\n",
      "Epoch 110, Loss: 0.9337720274925232\n",
      "Epoch 120, Loss: 0.9201556444168091\n",
      "Epoch 130, Loss: 0.9183594584465027\n",
      "Epoch 140, Loss: 0.9998905062675476\n",
      "Epoch 150, Loss: 0.8582054972648621\n",
      "Epoch 160, Loss: 0.8899263143539429\n",
      "Epoch 170, Loss: 0.8471554517745972\n",
      "Epoch 180, Loss: 0.8247213363647461\n",
      "Epoch 190, Loss: 0.9202734231948853\n",
      "Epoch 200, Loss: 0.9115082621574402\n",
      "Epoch 210, Loss: 0.7493004202842712\n",
      "Epoch 220, Loss: 0.8548351526260376\n",
      "Epoch 230, Loss: 0.7276009321212769\n",
      "Epoch 240, Loss: 0.7293468117713928\n",
      "Epoch 250, Loss: 0.8916587829589844\n",
      "Epoch 260, Loss: 0.750939130783081\n",
      "Epoch 270, Loss: 0.779137134552002\n",
      "Epoch 280, Loss: 0.8713021874427795\n",
      "Epoch 290, Loss: 0.8112769722938538\n",
      "Epoch 300, Loss: 0.8319821357727051\n",
      "Epoch 310, Loss: 0.7172941565513611\n",
      "Epoch 320, Loss: 0.7983435988426208\n",
      "Epoch 330, Loss: 0.7409720420837402\n",
      "Epoch 340, Loss: 0.6403608918190002\n",
      "Epoch 350, Loss: 0.7649435997009277\n",
      "Epoch 360, Loss: 0.6583598852157593\n",
      "Epoch 370, Loss: 0.7385545969009399\n",
      "Epoch 380, Loss: 0.7292559146881104\n",
      "Epoch 390, Loss: 0.838874101638794\n",
      "Epoch 400, Loss: 0.8016378283500671\n",
      "Epoch 410, Loss: 0.7278833389282227\n",
      "Epoch 420, Loss: 0.6298618912696838\n",
      "Epoch 430, Loss: 0.6089254021644592\n",
      "Epoch 440, Loss: 0.6246832609176636\n",
      "Epoch 450, Loss: 0.7087724804878235\n",
      "Epoch 460, Loss: 0.7070645689964294\n",
      "Epoch 470, Loss: 0.6092789173126221\n",
      "Epoch 480, Loss: 0.6805940866470337\n",
      "Epoch 490, Loss: 0.6785170435905457\n",
      "Epoch 500, Loss: 0.7162804007530212\n"
     ]
    }
   ],
   "source": [
    "num_epochs = 500\n",
    "\n",
    "for epoch in range(num_epochs):\n",
    "    for X_batch, y_batch in train_loader:\n",
    "\n",
    "        outputs = model(X_batch)\n",
    "\n",
    "        optimizer.zero_grad()\n",
    "        loss = criterion(outputs, y_batch)\n",
    "        loss.backward()\n",
    "        optimizer.step()\n",
    "\n",
    "    if (epoch+1) % 10 == 0:\n",
    "        print(f'Epoch {epoch+1}, Loss: {loss.item()}')"
   ]
  },
  {
   "cell_type": "code",
   "execution_count": 225,
   "id": "e2bbb540-b6eb-4f8a-b0bd-4cf7556f2b95",
   "metadata": {
    "scrolled": true
   },
   "outputs": [
    {
     "name": "stderr",
     "output_type": "stream",
     "text": [
      "100%|███████████████████████████████████████████| 8/8 [00:00<00:00, 3570.38it/s]\n",
      "100%|███████████████████████████████████████████| 8/8 [00:00<00:00, 3517.97it/s]\n",
      "100%|███████████████████████████████████████████| 8/8 [00:00<00:00, 3676.39it/s]\n",
      "100%|███████████████████████████████████████████| 8/8 [00:00<00:00, 3527.22it/s]\n",
      "100%|███████████████████████████████████████████| 8/8 [00:00<00:00, 3262.46it/s]\n",
      "100%|███████████████████████████████████████████| 8/8 [00:00<00:00, 3108.04it/s]\n",
      "100%|███████████████████████████████████████████| 8/8 [00:00<00:00, 2134.51it/s]\n",
      "100%|███████████████████████████████████████████| 8/8 [00:00<00:00, 3501.09it/s]\n",
      "100%|███████████████████████████████████████████| 8/8 [00:00<00:00, 1784.24it/s]\n",
      "100%|███████████████████████████████████████████| 8/8 [00:00<00:00, 2371.00it/s]\n"
     ]
    },
    {
     "name": "stdout",
     "output_type": "stream",
     "text": [
      "Epoch 10, Loss: 0.6947660446166992\n"
     ]
    },
    {
     "name": "stderr",
     "output_type": "stream",
     "text": [
      "100%|███████████████████████████████████████████| 8/8 [00:00<00:00, 2463.61it/s]\n",
      "100%|███████████████████████████████████████████| 8/8 [00:00<00:00, 2846.01it/s]\n",
      "100%|███████████████████████████████████████████| 8/8 [00:00<00:00, 3339.08it/s]\n",
      "100%|███████████████████████████████████████████| 8/8 [00:00<00:00, 2451.73it/s]\n",
      "100%|███████████████████████████████████████████| 8/8 [00:00<00:00, 2647.29it/s]\n",
      "100%|███████████████████████████████████████████| 8/8 [00:00<00:00, 2655.04it/s]\n",
      "100%|███████████████████████████████████████████| 8/8 [00:00<00:00, 2554.97it/s]\n",
      "100%|███████████████████████████████████████████| 8/8 [00:00<00:00, 2510.24it/s]\n",
      "100%|███████████████████████████████████████████| 8/8 [00:00<00:00, 2402.58it/s]\n",
      "100%|███████████████████████████████████████████| 8/8 [00:00<00:00, 2613.48it/s]\n"
     ]
    },
    {
     "name": "stdout",
     "output_type": "stream",
     "text": [
      "Epoch 20, Loss: 0.6143776774406433\n"
     ]
    },
    {
     "name": "stderr",
     "output_type": "stream",
     "text": [
      "100%|███████████████████████████████████████████| 8/8 [00:00<00:00, 2020.13it/s]\n",
      "100%|███████████████████████████████████████████| 8/8 [00:00<00:00, 2545.47it/s]\n",
      "100%|███████████████████████████████████████████| 8/8 [00:00<00:00, 2217.30it/s]\n",
      "100%|███████████████████████████████████████████| 8/8 [00:00<00:00, 2870.60it/s]\n",
      "100%|███████████████████████████████████████████| 8/8 [00:00<00:00, 2346.79it/s]\n",
      "100%|███████████████████████████████████████████| 8/8 [00:00<00:00, 2534.90it/s]\n",
      "100%|███████████████████████████████████████████| 8/8 [00:00<00:00, 2395.03it/s]\n",
      "100%|███████████████████████████████████████████| 8/8 [00:00<00:00, 2596.49it/s]\n",
      "100%|███████████████████████████████████████████| 8/8 [00:00<00:00, 2558.28it/s]\n",
      "100%|███████████████████████████████████████████| 8/8 [00:00<00:00, 2354.37it/s]\n"
     ]
    },
    {
     "name": "stdout",
     "output_type": "stream",
     "text": [
      "Epoch 30, Loss: 0.7531804442405701\n"
     ]
    },
    {
     "name": "stderr",
     "output_type": "stream",
     "text": [
      "100%|███████████████████████████████████████████| 8/8 [00:00<00:00, 2457.84it/s]\n",
      "100%|███████████████████████████████████████████| 8/8 [00:00<00:00, 2586.48it/s]\n",
      "100%|███████████████████████████████████████████| 8/8 [00:00<00:00, 2818.99it/s]\n",
      "100%|███████████████████████████████████████████| 8/8 [00:00<00:00, 2583.10it/s]\n",
      "100%|███████████████████████████████████████████| 8/8 [00:00<00:00, 2934.62it/s]\n",
      "100%|███████████████████████████████████████████| 8/8 [00:00<00:00, 2776.77it/s]\n",
      "100%|███████████████████████████████████████████| 8/8 [00:00<00:00, 3049.85it/s]\n",
      "100%|███████████████████████████████████████████| 8/8 [00:00<00:00, 2531.84it/s]\n",
      "100%|███████████████████████████████████████████| 8/8 [00:00<00:00, 3073.31it/s]\n",
      "100%|███████████████████████████████████████████| 8/8 [00:00<00:00, 2832.55it/s]\n"
     ]
    },
    {
     "name": "stdout",
     "output_type": "stream",
     "text": [
      "Epoch 40, Loss: 0.6068188548088074\n"
     ]
    },
    {
     "name": "stderr",
     "output_type": "stream",
     "text": [
      "100%|███████████████████████████████████████████| 8/8 [00:00<00:00, 2517.40it/s]\n",
      "100%|███████████████████████████████████████████| 8/8 [00:00<00:00, 2581.31it/s]\n",
      "100%|███████████████████████████████████████████| 8/8 [00:00<00:00, 2749.01it/s]\n",
      "100%|███████████████████████████████████████████| 8/8 [00:00<00:00, 3035.23it/s]\n",
      "100%|███████████████████████████████████████████| 8/8 [00:00<00:00, 2673.02it/s]\n",
      "100%|███████████████████████████████████████████| 8/8 [00:00<00:00, 3116.41it/s]\n",
      "100%|███████████████████████████████████████████| 8/8 [00:00<00:00, 3203.59it/s]\n",
      "100%|███████████████████████████████████████████| 8/8 [00:00<00:00, 3079.52it/s]\n",
      "100%|███████████████████████████████████████████| 8/8 [00:00<00:00, 2959.73it/s]\n",
      "100%|███████████████████████████████████████████| 8/8 [00:00<00:00, 2392.98it/s]\n"
     ]
    },
    {
     "name": "stdout",
     "output_type": "stream",
     "text": [
      "Epoch 50, Loss: 0.5703808069229126\n"
     ]
    },
    {
     "name": "stderr",
     "output_type": "stream",
     "text": [
      "100%|███████████████████████████████████████████| 8/8 [00:00<00:00, 3013.15it/s]\n",
      "100%|███████████████████████████████████████████| 8/8 [00:00<00:00, 3301.63it/s]\n",
      "100%|███████████████████████████████████████████| 8/8 [00:00<00:00, 2818.75it/s]\n",
      "100%|███████████████████████████████████████████| 8/8 [00:00<00:00, 2291.50it/s]\n",
      "100%|███████████████████████████████████████████| 8/8 [00:00<00:00, 2717.40it/s]\n",
      "100%|███████████████████████████████████████████| 8/8 [00:00<00:00, 2186.38it/s]\n",
      "100%|███████████████████████████████████████████| 8/8 [00:00<00:00, 2771.03it/s]\n",
      "100%|███████████████████████████████████████████| 8/8 [00:00<00:00, 2427.26it/s]\n",
      "100%|███████████████████████████████████████████| 8/8 [00:00<00:00, 2610.02it/s]\n",
      "100%|███████████████████████████████████████████| 8/8 [00:00<00:00, 3053.46it/s]\n"
     ]
    },
    {
     "name": "stdout",
     "output_type": "stream",
     "text": [
      "Epoch 60, Loss: 0.4912736117839813\n"
     ]
    },
    {
     "name": "stderr",
     "output_type": "stream",
     "text": [
      "100%|███████████████████████████████████████████| 8/8 [00:00<00:00, 2639.38it/s]\n",
      "100%|███████████████████████████████████████████| 8/8 [00:00<00:00, 2966.27it/s]\n",
      "100%|███████████████████████████████████████████| 8/8 [00:00<00:00, 2705.57it/s]\n",
      "100%|███████████████████████████████████████████| 8/8 [00:00<00:00, 2594.28it/s]\n",
      "100%|███████████████████████████████████████████| 8/8 [00:00<00:00, 3140.92it/s]\n",
      "100%|███████████████████████████████████████████| 8/8 [00:00<00:00, 2860.32it/s]\n",
      "100%|███████████████████████████████████████████| 8/8 [00:00<00:00, 2664.95it/s]\n",
      "100%|███████████████████████████████████████████| 8/8 [00:00<00:00, 2621.24it/s]\n",
      "100%|███████████████████████████████████████████| 8/8 [00:00<00:00, 3038.25it/s]\n",
      "100%|███████████████████████████████████████████| 8/8 [00:00<00:00, 3175.70it/s]\n"
     ]
    },
    {
     "name": "stdout",
     "output_type": "stream",
     "text": [
      "Epoch 70, Loss: 0.6158742904663086\n"
     ]
    },
    {
     "name": "stderr",
     "output_type": "stream",
     "text": [
      "100%|███████████████████████████████████████████| 8/8 [00:00<00:00, 2735.12it/s]\n",
      "100%|███████████████████████████████████████████| 8/8 [00:00<00:00, 2569.06it/s]\n",
      "100%|███████████████████████████████████████████| 8/8 [00:00<00:00, 2963.13it/s]\n",
      "100%|███████████████████████████████████████████| 8/8 [00:00<00:00, 2689.09it/s]\n",
      "100%|███████████████████████████████████████████| 8/8 [00:00<00:00, 2661.36it/s]\n",
      "100%|███████████████████████████████████████████| 8/8 [00:00<00:00, 2911.19it/s]\n",
      "100%|███████████████████████████████████████████| 8/8 [00:00<00:00, 2496.24it/s]\n",
      "100%|███████████████████████████████████████████| 8/8 [00:00<00:00, 3138.27it/s]\n",
      "100%|███████████████████████████████████████████| 8/8 [00:00<00:00, 2508.74it/s]\n",
      "100%|███████████████████████████████████████████| 8/8 [00:00<00:00, 2867.41it/s]\n"
     ]
    },
    {
     "name": "stdout",
     "output_type": "stream",
     "text": [
      "Epoch 80, Loss: 0.707990825176239\n"
     ]
    },
    {
     "name": "stderr",
     "output_type": "stream",
     "text": [
      "100%|███████████████████████████████████████████| 8/8 [00:00<00:00, 2641.25it/s]\n",
      "100%|███████████████████████████████████████████| 8/8 [00:00<00:00, 3023.74it/s]\n",
      "100%|███████████████████████████████████████████| 8/8 [00:00<00:00, 2659.46it/s]\n",
      "100%|███████████████████████████████████████████| 8/8 [00:00<00:00, 2780.91it/s]\n",
      "100%|███████████████████████████████████████████| 8/8 [00:00<00:00, 2882.19it/s]\n",
      "100%|███████████████████████████████████████████| 8/8 [00:00<00:00, 2923.88it/s]\n",
      "100%|███████████████████████████████████████████| 8/8 [00:00<00:00, 3024.56it/s]\n",
      "100%|███████████████████████████████████████████| 8/8 [00:00<00:00, 2456.22it/s]\n",
      "100%|███████████████████████████████████████████| 8/8 [00:00<00:00, 3038.25it/s]\n",
      "100%|███████████████████████████████████████████| 8/8 [00:00<00:00, 2416.77it/s]\n"
     ]
    },
    {
     "name": "stdout",
     "output_type": "stream",
     "text": [
      "Epoch 90, Loss: 0.5508973598480225\n"
     ]
    },
    {
     "name": "stderr",
     "output_type": "stream",
     "text": [
      "100%|███████████████████████████████████████████| 8/8 [00:00<00:00, 2744.29it/s]\n",
      "100%|███████████████████████████████████████████| 8/8 [00:00<00:00, 2312.82it/s]\n",
      "100%|███████████████████████████████████████████| 8/8 [00:00<00:00, 2979.70it/s]\n",
      "100%|███████████████████████████████████████████| 8/8 [00:00<00:00, 3152.13it/s]\n",
      "100%|███████████████████████████████████████████| 8/8 [00:00<00:00, 3018.84it/s]\n",
      "100%|███████████████████████████████████████████| 8/8 [00:00<00:00, 2906.91it/s]\n",
      "100%|███████████████████████████████████████████| 8/8 [00:00<00:00, 2255.31it/s]\n",
      "100%|███████████████████████████████████████████| 8/8 [00:00<00:00, 2938.99it/s]\n",
      "100%|███████████████████████████████████████████| 8/8 [00:00<00:00, 2288.22it/s]\n",
      "100%|███████████████████████████████████████████| 8/8 [00:00<00:00, 3031.66it/s]"
     ]
    },
    {
     "name": "stdout",
     "output_type": "stream",
     "text": [
      "Epoch 100, Loss: 0.488571435213089\n"
     ]
    },
    {
     "name": "stderr",
     "output_type": "stream",
     "text": [
      "\n"
     ]
    }
   ],
   "source": [
    "from tqdm import tqdm\n",
    "num_epochs = 100\n",
    "\n",
    "for epoch in range(num_epochs):\n",
    "    for i, (X_batch, y_batch) in enumerate(tqdm(train_loader)): ## 사진 참고하기\n",
    "\n",
    "        outputs = model(X_batch)\n",
    "\n",
    "        optimizer.zero_grad()\n",
    "        loss = criterion(outputs, y_batch)\n",
    "        loss.backward()\n",
    "        optimizer.step()\n",
    "\n",
    "    if (epoch+1) % 10 == 0:\n",
    "        print(f'Epoch {epoch+1}, Loss: {loss.item()}')"
   ]
  },
  {
   "cell_type": "code",
   "execution_count": 226,
   "id": "d6c956ab-7acf-48d0-9a31-2a16f9a863a2",
   "metadata": {},
   "outputs": [
    {
     "name": "stdout",
     "output_type": "stream",
     "text": [
      "Auccuracy: 90.0%\n"
     ]
    }
   ],
   "source": [
    "model.eval()\n",
    "with torch.no_grad():\n",
    "    correct = 0\n",
    "    total = 0\n",
    "    for X_batch, y_batch in test_loader:\n",
    "        outputs = model(X_batch)\n",
    "        _, predicted = torch.max(outputs.data, 1)\n",
    "        total += y_batch.size(0)\n",
    "        correct += (predicted == y_batch).sum().item()\n",
    "\n",
    "    print(f'Auccuracy: {100 * correct / total}%')"
   ]
  },
  {
   "cell_type": "code",
   "execution_count": null,
   "id": "1d298401-976d-433f-ae0a-e910de4f5573",
   "metadata": {},
   "outputs": [],
   "source": []
  },
  {
   "cell_type": "code",
   "execution_count": null,
   "id": "a61cf771-2b60-4d51-ad86-990ad6bfbf41",
   "metadata": {},
   "outputs": [],
   "source": []
  },
  {
   "cell_type": "code",
   "execution_count": null,
   "id": "4dd3dce3-dcd5-439b-9283-7fb76797baed",
   "metadata": {},
   "outputs": [],
   "source": []
  },
  {
   "cell_type": "code",
   "execution_count": null,
   "id": "edc68bf1-741a-45af-851e-e6f200f6cd38",
   "metadata": {},
   "outputs": [],
   "source": []
  },
  {
   "cell_type": "code",
   "execution_count": null,
   "id": "44849ca3-8a53-4f8d-a97a-6a836072f4f3",
   "metadata": {},
   "outputs": [],
   "source": []
  },
  {
   "cell_type": "code",
   "execution_count": null,
   "id": "e26869a8-86d2-49af-9afa-99f7c0af3f1c",
   "metadata": {},
   "outputs": [],
   "source": []
  }
 ],
 "metadata": {
  "kernelspec": {
   "display_name": "Python 3 (ipykernel)",
   "language": "python",
   "name": "python3"
  },
  "language_info": {
   "codemirror_mode": {
    "name": "ipython",
    "version": 3
   },
   "file_extension": ".py",
   "mimetype": "text/x-python",
   "name": "python",
   "nbconvert_exporter": "python",
   "pygments_lexer": "ipython3",
   "version": "3.12.1"
  }
 },
 "nbformat": 4,
 "nbformat_minor": 5
}
