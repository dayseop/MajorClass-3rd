{
 "cells": [
  {
   "cell_type": "code",
   "execution_count": 1,
   "id": "918a413b-fdd7-4e70-99f5-3367449dc0d0",
   "metadata": {},
   "outputs": [
    {
     "name": "stdout",
     "output_type": "stream",
     "text": [
      "Negative Log Likelihood: 0.8382705184199444\n"
     ]
    }
   ],
   "source": [
    "import numpy as np\n",
    "\n",
    "# 주어진 가중치와 편향\n",
    "weight = 2\n",
    "bias = -10\n",
    "\n",
    "# 데이터\n",
    "data = [(10, 1), (7, 1), (5, 0), (4, 0)]\n",
    "\n",
    "# 시그모이드 함수 정의\n",
    "def sigmoid(x):\n",
    "    return 1 / (1 + np.exp(-x))\n",
    "\n",
    "# Negative Log Likelihood 계산\n",
    "nll = 0\n",
    "for input_val, output_val in data:\n",
    "    # 모델의 출력값 계산\n",
    "    prediction = sigmoid(weight * input_val + bias)\n",
    "    # 이진 분류에서의 Negative Log Likelihood 계산\n",
    "    nll -= (output_val * np.log(prediction) + (1 - output_val) * np.log(1 - prediction))\n",
    "\n",
    "print(\"Negative Log Likelihood:\", nll)"
   ]
  }
 ],
 "metadata": {
  "kernelspec": {
   "display_name": "Python 3 (ipykernel)",
   "language": "python",
   "name": "python3"
  },
  "language_info": {
   "codemirror_mode": {
    "name": "ipython",
    "version": 3
   },
   "file_extension": ".py",
   "mimetype": "text/x-python",
   "name": "python",
   "nbconvert_exporter": "python",
   "pygments_lexer": "ipython3",
   "version": "3.12.1"
  }
 },
 "nbformat": 4,
 "nbformat_minor": 5
}
