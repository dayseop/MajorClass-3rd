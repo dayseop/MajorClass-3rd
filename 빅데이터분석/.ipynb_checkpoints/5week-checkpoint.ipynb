{
 "cells": [
  {
   "cell_type": "markdown",
   "id": "1641ddd5-70d0-40be-95a9-9b9eae823753",
   "metadata": {},
   "source": [
    "## 필요한 라이브러리 불러오기"
   ]
  },
  {
   "cell_type": "code",
   "execution_count": 1,
   "id": "3c8f4d90-3acf-4539-bb76-1b282a2c7bd3",
   "metadata": {},
   "outputs": [],
   "source": [
    "import numpy as np\n",
    "import pandas as pd\n",
    "import matplotlib.pyplot as plt\n",
    "from sklearn.linear_model import LogisticRegression\n",
    "import seaborn as sns"
   ]
  },
  {
   "cell_type": "markdown",
   "id": "44b1a488-39fe-4011-bc1b-4c2f88721437",
   "metadata": {},
   "source": [
    "## 데이터 불러오기"
   ]
  },
  {
   "cell_type": "code",
   "execution_count": 2,
   "id": "88e98f18-5610-424a-939d-8f20c0222f4a",
   "metadata": {},
   "outputs": [
    {
     "name": "stdout",
     "output_type": "stream",
     "text": [
      "'bigdata_class2'에 복제합니다...\n",
      "remote: Enumerating objects: 6, done.\u001b[K\n",
      "remote: Counting objects: 100% (6/6), done.\u001b[K\n",
      "remote: Compressing objects: 100% (4/4), done.\u001b[K\n",
      "remote: Total 6 (delta 0), reused 0 (delta 0), pack-reused 0\u001b[K\n",
      "오브젝트를 받는 중: 100% (6/6), 7.23 KiB | 3.62 MiB/s, 완료.\n"
     ]
    }
   ],
   "source": [
    "!git clone https://github.com/daehan11/bigdata_class2.git ## 리눅스 명령어를 쓰기 위함"
   ]
  },
  {
   "cell_type": "code",
   "execution_count": 45,
   "id": "ef27bec3-2096-4ddc-b829-c45264b68550",
   "metadata": {},
   "outputs": [
    {
     "data": {
      "text/html": [
       "<div>\n",
       "<style scoped>\n",
       "    .dataframe tbody tr th:only-of-type {\n",
       "        vertical-align: middle;\n",
       "    }\n",
       "\n",
       "    .dataframe tbody tr th {\n",
       "        vertical-align: top;\n",
       "    }\n",
       "\n",
       "    .dataframe thead th {\n",
       "        text-align: right;\n",
       "    }\n",
       "</style>\n",
       "<table border=\"1\" class=\"dataframe\">\n",
       "  <thead>\n",
       "    <tr style=\"text-align: right;\">\n",
       "      <th></th>\n",
       "      <th>age</th>\n",
       "      <th>sex</th>\n",
       "      <th>cp</th>\n",
       "      <th>trestbps</th>\n",
       "      <th>chol</th>\n",
       "      <th>fbs</th>\n",
       "      <th>restecg</th>\n",
       "      <th>thalach</th>\n",
       "      <th>exang</th>\n",
       "      <th>oldpeak</th>\n",
       "      <th>slope</th>\n",
       "      <th>ca</th>\n",
       "      <th>thal</th>\n",
       "      <th>target</th>\n",
       "    </tr>\n",
       "  </thead>\n",
       "  <tbody>\n",
       "    <tr>\n",
       "      <th>0</th>\n",
       "      <td>52</td>\n",
       "      <td>1</td>\n",
       "      <td>0</td>\n",
       "      <td>125</td>\n",
       "      <td>212</td>\n",
       "      <td>0</td>\n",
       "      <td>1</td>\n",
       "      <td>168</td>\n",
       "      <td>0</td>\n",
       "      <td>1.0</td>\n",
       "      <td>2</td>\n",
       "      <td>2</td>\n",
       "      <td>3</td>\n",
       "      <td>0</td>\n",
       "    </tr>\n",
       "    <tr>\n",
       "      <th>1</th>\n",
       "      <td>53</td>\n",
       "      <td>1</td>\n",
       "      <td>0</td>\n",
       "      <td>140</td>\n",
       "      <td>203</td>\n",
       "      <td>1</td>\n",
       "      <td>0</td>\n",
       "      <td>155</td>\n",
       "      <td>1</td>\n",
       "      <td>3.1</td>\n",
       "      <td>0</td>\n",
       "      <td>0</td>\n",
       "      <td>3</td>\n",
       "      <td>0</td>\n",
       "    </tr>\n",
       "    <tr>\n",
       "      <th>2</th>\n",
       "      <td>70</td>\n",
       "      <td>1</td>\n",
       "      <td>0</td>\n",
       "      <td>145</td>\n",
       "      <td>174</td>\n",
       "      <td>0</td>\n",
       "      <td>1</td>\n",
       "      <td>125</td>\n",
       "      <td>1</td>\n",
       "      <td>2.6</td>\n",
       "      <td>0</td>\n",
       "      <td>0</td>\n",
       "      <td>3</td>\n",
       "      <td>0</td>\n",
       "    </tr>\n",
       "    <tr>\n",
       "      <th>3</th>\n",
       "      <td>61</td>\n",
       "      <td>1</td>\n",
       "      <td>0</td>\n",
       "      <td>148</td>\n",
       "      <td>203</td>\n",
       "      <td>0</td>\n",
       "      <td>1</td>\n",
       "      <td>161</td>\n",
       "      <td>0</td>\n",
       "      <td>0.0</td>\n",
       "      <td>2</td>\n",
       "      <td>1</td>\n",
       "      <td>3</td>\n",
       "      <td>0</td>\n",
       "    </tr>\n",
       "    <tr>\n",
       "      <th>4</th>\n",
       "      <td>62</td>\n",
       "      <td>0</td>\n",
       "      <td>0</td>\n",
       "      <td>138</td>\n",
       "      <td>294</td>\n",
       "      <td>1</td>\n",
       "      <td>1</td>\n",
       "      <td>106</td>\n",
       "      <td>0</td>\n",
       "      <td>1.9</td>\n",
       "      <td>1</td>\n",
       "      <td>3</td>\n",
       "      <td>2</td>\n",
       "      <td>0</td>\n",
       "    </tr>\n",
       "  </tbody>\n",
       "</table>\n",
       "</div>"
      ],
      "text/plain": [
       "   age  sex  cp  trestbps  chol  fbs  restecg  thalach  exang  oldpeak  slope  \\\n",
       "0   52    1   0       125   212    0        1      168      0      1.0      2   \n",
       "1   53    1   0       140   203    1        0      155      1      3.1      0   \n",
       "2   70    1   0       145   174    0        1      125      1      2.6      0   \n",
       "3   61    1   0       148   203    0        1      161      0      0.0      2   \n",
       "4   62    0   0       138   294    1        1      106      0      1.9      1   \n",
       "\n",
       "   ca  thal  target  \n",
       "0   2     3       0  \n",
       "1   0     3       0  \n",
       "2   0     3       0  \n",
       "3   1     3       0  \n",
       "4   3     2       0  "
      ]
     },
     "execution_count": 45,
     "metadata": {},
     "output_type": "execute_result"
    }
   ],
   "source": [
    "# Read dataset\n",
    "df = pd.read_csv('bigdata_class2/heart.csv')\n",
    "df.head()"
   ]
  },
  {
   "cell_type": "code",
   "execution_count": 46,
   "id": "22da5398-7521-4ac0-9618-c3d1960edc57",
   "metadata": {},
   "outputs": [
    {
     "data": {
      "image/png": "[encoded data removed]",
      "text/plain": [
       "<Figure size 640x480 with 1 Axes>"
      ]
     },
     "metadata": {},
     "output_type": "display_data"
    }
   ],
   "source": [
    "plt.boxplot([df['age'], df['trestbps'], df['chol'], df['thalach'], df['oldpeak']]) ## 25% ~ 75%, 5% ~ 95% , 이상치 , 정규화(단위가 다름, 스케일 맞춰줄려고) 할때 이상치 민감 -> 표쥰화 해라\n",
    "plt.show()"
   ]
  },
  {
   "cell_type": "code",
   "execution_count": 47,
   "id": "7ec0c500-3943-4fe8-9d76-24e170ac6255",
   "metadata": {},
   "outputs": [],
   "source": [
    "df1 = df[['age', 'trestbps', 'chol', 'thalach', 'oldpeak']]\n",
    "label = df['target']"
   ]
  },
  {
   "cell_type": "code",
   "execution_count": 48,
   "id": "a27d3ba8-c2ed-47c6-8830-dc266060b382",
   "metadata": {},
   "outputs": [],
   "source": [
    "tr_x = np.array(df1[0:900])\n",
    "tr_y = np.array(label[0:900])\n",
    "\n",
    "te_x = np.array(df1[900:])\n",
    "te_y = np.array(label[900:])"
   ]
  },
  {
   "cell_type": "code",
   "execution_count": 49,
   "id": "b89398e4-3e9d-4b9c-ba03-4686fd390f7f",
   "metadata": {},
   "outputs": [
    {
     "data": {
      "text/plain": [
       "0.6799999999999999"
      ]
     },
     "execution_count": 49,
     "metadata": {},
     "output_type": "execute_result"
    }
   ],
   "source": [
    "model = LogisticRegression().fit(tr_x, tr_y)\n",
    "pred = model.predict(te_x)\n",
    "1-np.mean(np.abs(pred-te_y))"
   ]
  },
  {
   "cell_type": "code",
   "execution_count": 50,
   "id": "55e04b74-fde8-4db4-9de6-fb31267d5c49",
   "metadata": {},
   "outputs": [],
   "source": [
    "# copy 적용"
   ]
  },
  {
   "cell_type": "code",
   "execution_count": 51,
   "id": "f8de8144-8524-4c26-baf7-c2b47c2a69dc",
   "metadata": {},
   "outputs": [],
   "source": [
    "tr_x2 = tr_x.copy()\n",
    "te_x2 = te_x.copy()"
   ]
  },
  {
   "cell_type": "code",
   "execution_count": 52,
   "id": "333d491d-0cfd-440e-9c4a-5cffafe41125",
   "metadata": {},
   "outputs": [],
   "source": [
    "def standadization(x):\n",
    "    r, c = np.shape(x)\n",
    "    for i in range(c):\n",
    "        x[:,i] = (x[:,i]-np.mean(x[:,i]))/np.std(x[:,i])\n",
    "    return x"
   ]
  },
  {
   "cell_type": "code",
   "execution_count": 53,
   "id": "85096527-2987-43f0-8185-e874798a7440",
   "metadata": {},
   "outputs": [],
   "source": [
    "tr_x2 = standadization(tr_x2)\n",
    "te_x2 = standadization(te_x2)"
   ]
  },
  {
   "cell_type": "code",
   "execution_count": 54,
   "id": "c0bbdb29-bd71-4b4f-9578-6e56005cb76b",
   "metadata": {},
   "outputs": [
    {
     "data": {
      "image/png": "[encoded data removed]",
      "text/plain": [
       "<Figure size 640x480 with 1 Axes>"
      ]
     },
     "metadata": {},
     "output_type": "display_data"
    }
   ],
   "source": [
    "plt.boxplot([tr_x2[:,0], tr_x2[:,1], tr_x2[:,2], tr_x2[:,3],tr_x2[:,4]])\n",
    "plt.show()"
   ]
  },
  {
   "cell_type": "code",
   "execution_count": 55,
   "id": "803fe251-5cad-4635-88ad-b8009cea2ac2",
   "metadata": {},
   "outputs": [
    {
     "data": {
      "text/plain": [
       "0.688"
      ]
     },
     "execution_count": 55,
     "metadata": {},
     "output_type": "execute_result"
    }
   ],
   "source": [
    "model = LogisticRegression().fit(tr_x2, tr_y)\n",
    "pred = model.predict(te_x2)\n",
    "1-np.mean(np.abs(pred-te_y))"
   ]
  },
  {
   "cell_type": "code",
   "execution_count": 69,
   "id": "ffbd3ecb-7258-4cd3-889c-42828cc9066f",
   "metadata": {},
   "outputs": [],
   "source": [
    "tr_x2 = tr_x.copy()\n",
    "te_x2 = te_x.copy()"
   ]
  },
  {
   "cell_type": "code",
   "execution_count": 70,
   "id": "dec42411-fbd1-4cec-bcf1-826b20c489c8",
   "metadata": {},
   "outputs": [],
   "source": [
    "def normalization(x):\n",
    "    r, c = np.shape(x)\n",
    "    for i in range(c):\n",
    "        x[:,i] = (x[:,i] -np.min(x[:,i]))/(np.max(x[:,i])-np.min(x[:,i]))\n",
    "        return x"
   ]
  },
  {
   "cell_type": "code",
   "execution_count": 71,
   "id": "546681e8-209e-438a-8923-2b970a40f7f2",
   "metadata": {},
   "outputs": [],
   "source": [
    "tr_x2 = normalization(tr_x2)\n",
    "te_x2 = normalization(te_x2)"
   ]
  },
  {
   "cell_type": "code",
   "execution_count": 72,
   "id": "110638cb-2e7d-4e70-ad67-23dbdea3bc23",
   "metadata": {},
   "outputs": [
    {
     "data": {
      "image/png": "[encoded data removed]",
      "text/plain": [
       "<Figure size 640x480 with 1 Axes>"
      ]
     },
     "metadata": {},
     "output_type": "display_data"
    }
   ],
   "source": [
    "plt.boxplot([tr_x2[:,0], tr_x2[:,1], tr_x2[:,2], tr_x2[:,3], tr_x2[:,4]])\n",
    "plt.show()"
   ]
  },
  {
   "cell_type": "code",
   "execution_count": 73,
   "id": "74fc3ec8-e8f7-4d40-a142-b51d8b3a7789",
   "metadata": {},
   "outputs": [],
   "source": [
    "## 오를 수도 떨어질수도 0.704"
   ]
  },
  {
   "cell_type": "code",
   "execution_count": 74,
   "id": "66fd3f68-a904-4080-904a-a7b571e78432",
   "metadata": {},
   "outputs": [
    {
     "data": {
      "text/plain": [
       "0.6799999999999999"
      ]
     },
     "execution_count": 74,
     "metadata": {},
     "output_type": "execute_result"
    }
   ],
   "source": [
    "model = LogisticRegression().fit(tr_x2,tr_y)\n",
    "pred = model.predict(te_x2)\n",
    "1-np.mean(np.abs(pred-te_y))"
   ]
  },
  {
   "cell_type": "code",
   "execution_count": 77,
   "id": "ea883d4f-e0f8-4da1-bac3-4de5ba6a5bfd",
   "metadata": {},
   "outputs": [],
   "source": [
    "tr_x2 = tr_x.copy()\n",
    "te_x2 = te_x.copy()\n",
    "\n",
    "tr_x2 = standadization(tr_x2)\n",
    "te_x2 = standadization(te_x2)"
   ]
  },
  {
   "cell_type": "code",
   "execution_count": 78,
   "id": "2cb491c3-a5b1-46b7-a1a6-e4a59c4f2d3b",
   "metadata": {},
   "outputs": [],
   "source": [
    "def ourlier_deletion(x,y):\n",
    "    r, c = np.shape(x)\n",
    "    for i in range(c):\n",
    "        iqr = np.quantile(tr_x2[:,i], 0.75) - np.quantile(tr_x2[:,i], 0.25)\n",
    "        inx = np.where(x[:,i] < (np.quantile(x[:,i], 0.75) +1.5*iqr))[0]\n",
    "        x = x[inx]\n",
    "        y = y[inx]\n",
    "    return x, y"
   ]
  },
  {
   "cell_type": "code",
   "execution_count": null,
   "id": "acae16aa-4461-4836-83c9-403c8a1193db",
   "metadata": {},
   "outputs": [],
   "source": [
    "tr_x2, tr_y2 = ourlier_deletion(tr_x2, tr_y)\n",
    "te_x2 , te_y2 = "
   ]
  },
  {
   "cell_type": "code",
   "execution_count": null,
   "id": "7e6218d3-ad78-462e-a09e-a8413a844d82",
   "metadata": {},
   "outputs": [],
   "source": []
  },
  {
   "cell_type": "code",
   "execution_count": null,
   "id": "83fb471d-5b50-4d51-9af8-ed0e035d971e",
   "metadata": {},
   "outputs": [],
   "source": []
  },
  {
   "cell_type": "code",
   "execution_count": null,
   "id": "8b8b91d1-e3a4-46ca-bafc-e20ae53ad6c6",
   "metadata": {},
   "outputs": [],
   "source": []
  },
  {
   "cell_type": "code",
   "execution_count": null,
   "id": "78fff5cd-42c9-440b-8f08-7b48b87935f9",
   "metadata": {},
   "outputs": [],
   "source": []
  },
  {
   "cell_type": "code",
   "execution_count": null,
   "id": "66dd4b74-80f0-493e-a50c-1eb0489e0570",
   "metadata": {},
   "outputs": [],
   "source": []
  },
  {
   "cell_type": "code",
   "execution_count": null,
   "id": "97791979-bc39-45e3-ba4a-f11c08e96ee2",
   "metadata": {},
   "outputs": [],
   "source": []
  },
  {
   "cell_type": "code",
   "execution_count": null,
   "id": "b9000ef6-6bf1-4302-b4a2-e7c625dec2de",
   "metadata": {},
   "outputs": [],
   "source": []
  },
  {
   "cell_type": "code",
   "execution_count": null,
   "id": "4c102d5a-6961-4be3-9a65-fe6129454f53",
   "metadata": {},
   "outputs": [],
   "source": []
  },
  {
   "cell_type": "code",
   "execution_count": null,
   "id": "f600b67a-da27-4e70-b1e1-0bdb8c3bdc3b",
   "metadata": {},
   "outputs": [],
   "source": []
  }
 ],
 "metadata": {
  "kernelspec": {
   "display_name": "Python 3 (ipykernel)",
   "language": "python",
   "name": "python3"
  },
  "language_info": {
   "codemirror_mode": {
    "name": "ipython",
    "version": 3
   },
   "file_extension": ".py",
   "mimetype": "text/x-python",
   "name": "python",
   "nbconvert_exporter": "python",
   "pygments_lexer": "ipython3",
   "version": "3.12.1"
  }
 },
 "nbformat": 4,
 "nbformat_minor": 5
}
