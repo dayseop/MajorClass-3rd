{
 "cells": [
  {
   "cell_type": "markdown",
   "id": "1641ddd5-70d0-40be-95a9-9b9eae823753",
   "metadata": {},
   "source": [
    "## 필요한 라이브러리 불러오기"
   ]
  },
  {
   "cell_type": "code",
   "execution_count": 1,
   "id": "3c8f4d90-3acf-4539-bb76-1b282a2c7bd3",
   "metadata": {},
   "outputs": [],
   "source": [
    "import numpy as np\n",
    "import pandas as pd\n",
    "import matplotlib.pyplot as plt\n",
    "from sklearn.linear_model import LogisticRegression\n",
    "import seaborn as sns\n",
    "import copy"
   ]
  },
  {
   "cell_type": "markdown",
   "id": "44b1a488-39fe-4011-bc1b-4c2f88721437",
   "metadata": {},
   "source": [
    "## 데이터 불러오기"
   ]
  },
  {
   "cell_type": "code",
   "execution_count": 3,
   "id": "88e98f18-5610-424a-939d-8f20c0222f4a",
   "metadata": {},
   "outputs": [
    {
     "name": "stdout",
     "output_type": "stream",
     "text": [
      "fatal: 대상 경로가('bigdata_class2') 이미 있고 빈 디렉터리가 아닙니다.\n"
     ]
    }
   ],
   "source": [
    "!git clone https://github.com/daehan11/bigdata_class2.git ## 리눅스 명령어를 쓰기 위함"
   ]
  },
  {
   "cell_type": "code",
   "execution_count": 2,
   "id": "ef27bec3-2096-4ddc-b829-c45264b68550",
   "metadata": {},
   "outputs": [
    {
     "data": {
      "text/html": [
       "<div>\n",
       "<style scoped>\n",
       "    .dataframe tbody tr th:only-of-type {\n",
       "        vertical-align: middle;\n",
       "    }\n",
       "\n",
       "    .dataframe tbody tr th {\n",
       "        vertical-align: top;\n",
       "    }\n",
       "\n",
       "    .dataframe thead th {\n",
       "        text-align: right;\n",
       "    }\n",
       "</style>\n",
       "<table border=\"1\" class=\"dataframe\">\n",
       "  <thead>\n",
       "    <tr style=\"text-align: right;\">\n",
       "      <th></th>\n",
       "      <th>age</th>\n",
       "      <th>sex</th>\n",
       "      <th>cp</th>\n",
       "      <th>trestbps</th>\n",
       "      <th>chol</th>\n",
       "      <th>fbs</th>\n",
       "      <th>restecg</th>\n",
       "      <th>thalach</th>\n",
       "      <th>exang</th>\n",
       "      <th>oldpeak</th>\n",
       "      <th>slope</th>\n",
       "      <th>ca</th>\n",
       "      <th>thal</th>\n",
       "      <th>target</th>\n",
       "    </tr>\n",
       "  </thead>\n",
       "  <tbody>\n",
       "    <tr>\n",
       "      <th>0</th>\n",
       "      <td>52</td>\n",
       "      <td>1</td>\n",
       "      <td>0</td>\n",
       "      <td>125</td>\n",
       "      <td>212</td>\n",
       "      <td>0</td>\n",
       "      <td>1</td>\n",
       "      <td>168</td>\n",
       "      <td>0</td>\n",
       "      <td>1.0</td>\n",
       "      <td>2</td>\n",
       "      <td>2</td>\n",
       "      <td>3</td>\n",
       "      <td>0</td>\n",
       "    </tr>\n",
       "    <tr>\n",
       "      <th>1</th>\n",
       "      <td>53</td>\n",
       "      <td>1</td>\n",
       "      <td>0</td>\n",
       "      <td>140</td>\n",
       "      <td>203</td>\n",
       "      <td>1</td>\n",
       "      <td>0</td>\n",
       "      <td>155</td>\n",
       "      <td>1</td>\n",
       "      <td>3.1</td>\n",
       "      <td>0</td>\n",
       "      <td>0</td>\n",
       "      <td>3</td>\n",
       "      <td>0</td>\n",
       "    </tr>\n",
       "    <tr>\n",
       "      <th>2</th>\n",
       "      <td>70</td>\n",
       "      <td>1</td>\n",
       "      <td>0</td>\n",
       "      <td>145</td>\n",
       "      <td>174</td>\n",
       "      <td>0</td>\n",
       "      <td>1</td>\n",
       "      <td>125</td>\n",
       "      <td>1</td>\n",
       "      <td>2.6</td>\n",
       "      <td>0</td>\n",
       "      <td>0</td>\n",
       "      <td>3</td>\n",
       "      <td>0</td>\n",
       "    </tr>\n",
       "    <tr>\n",
       "      <th>3</th>\n",
       "      <td>61</td>\n",
       "      <td>1</td>\n",
       "      <td>0</td>\n",
       "      <td>148</td>\n",
       "      <td>203</td>\n",
       "      <td>0</td>\n",
       "      <td>1</td>\n",
       "      <td>161</td>\n",
       "      <td>0</td>\n",
       "      <td>0.0</td>\n",
       "      <td>2</td>\n",
       "      <td>1</td>\n",
       "      <td>3</td>\n",
       "      <td>0</td>\n",
       "    </tr>\n",
       "    <tr>\n",
       "      <th>4</th>\n",
       "      <td>62</td>\n",
       "      <td>0</td>\n",
       "      <td>0</td>\n",
       "      <td>138</td>\n",
       "      <td>294</td>\n",
       "      <td>1</td>\n",
       "      <td>1</td>\n",
       "      <td>106</td>\n",
       "      <td>0</td>\n",
       "      <td>1.9</td>\n",
       "      <td>1</td>\n",
       "      <td>3</td>\n",
       "      <td>2</td>\n",
       "      <td>0</td>\n",
       "    </tr>\n",
       "  </tbody>\n",
       "</table>\n",
       "</div>"
      ],
      "text/plain": [
       "   age  sex  cp  trestbps  chol  fbs  restecg  thalach  exang  oldpeak  slope  \\\n",
       "0   52    1   0       125   212    0        1      168      0      1.0      2   \n",
       "1   53    1   0       140   203    1        0      155      1      3.1      0   \n",
       "2   70    1   0       145   174    0        1      125      1      2.6      0   \n",
       "3   61    1   0       148   203    0        1      161      0      0.0      2   \n",
       "4   62    0   0       138   294    1        1      106      0      1.9      1   \n",
       "\n",
       "   ca  thal  target  \n",
       "0   2     3       0  \n",
       "1   0     3       0  \n",
       "2   0     3       0  \n",
       "3   1     3       0  \n",
       "4   3     2       0  "
      ]
     },
     "execution_count": 2,
     "metadata": {},
     "output_type": "execute_result"
    }
   ],
   "source": [
    "# Read dataset\n",
    "df = pd.read_csv('bigdata_class2/heart.csv')\n",
    "df.head()"
   ]
  },
  {
   "cell_type": "code",
   "execution_count": 3,
   "id": "22da5398-7521-4ac0-9618-c3d1960edc57",
   "metadata": {},
   "outputs": [
    {
     "data": {
      "image/png": "[encoded data removed]",
      "text/plain": [
       "<Figure size 640x480 with 1 Axes>"
      ]
     },
     "metadata": {},
     "output_type": "display_data"
    }
   ],
   "source": [
    "plt.boxplot([df['age'], df['trestbps'], df['chol'], df['thalach'], df['oldpeak']]) ## 25% ~ 75%, 5% ~ 95% , 이상치 , 정규화(단위가 다름, 스케일 맞춰줄려고) 할때 이상치 민감 -> 표쥰화 해라\n",
    "plt.show()"
   ]
  },
  {
   "cell_type": "code",
   "execution_count": 4,
   "id": "7ec0c500-3943-4fe8-9d76-24e170ac6255",
   "metadata": {},
   "outputs": [],
   "source": [
    "df1 = df[['age', 'trestbps', 'chol', 'thalach', 'oldpeak']]\n",
    "label = df['target']"
   ]
  },
  {
   "cell_type": "code",
   "execution_count": 5,
   "id": "a27d3ba8-c2ed-47c6-8830-dc266060b382",
   "metadata": {},
   "outputs": [],
   "source": [
    "tr_x = np.array(df1[0:900])\n",
    "tr_y = np.array(label[0:900])\n",
    "\n",
    "te_x = np.array(df1[900:])\n",
    "te_y = np.array(label[900:])"
   ]
  },
  {
   "cell_type": "code",
   "execution_count": 6,
   "id": "b89398e4-3e9d-4b9c-ba03-4686fd390f7f",
   "metadata": {},
   "outputs": [
    {
     "data": {
      "text/plain": [
       "0.6799999999999999"
      ]
     },
     "execution_count": 6,
     "metadata": {},
     "output_type": "execute_result"
    }
   ],
   "source": [
    "model = LogisticRegression().fit(tr_x, tr_y)\n",
    "pred = model.predict(te_x)\n",
    "1-np.mean(np.abs(pred-te_y))"
   ]
  },
  {
   "cell_type": "code",
   "execution_count": 7,
   "id": "f8de8144-8524-4c26-baf7-c2b47c2a69dc",
   "metadata": {},
   "outputs": [],
   "source": [
    "tr_x2 = copy.deepcopy(tr_x)\n",
    "te_x2 = copy.deepcopy(te_x)\n"
   ]
  },
  {
   "cell_type": "code",
   "execution_count": 8,
   "id": "333d491d-0cfd-440e-9c4a-5cffafe41125",
   "metadata": {},
   "outputs": [],
   "source": [
    "def standadization(x):\n",
    "    r, c = np.shape(x)\n",
    "    for i in range(c):\n",
    "        x[:,i] = (x[:,i]-np.mean(x[:,i]))/np.std(x[:,i])\n",
    "    return x"
   ]
  },
  {
   "cell_type": "code",
   "execution_count": 9,
   "id": "85096527-2987-43f0-8185-e874798a7440",
   "metadata": {},
   "outputs": [],
   "source": [
    "tr_x2 = standadization(tr_x2)\n",
    "te_x2 = standadization(te_x2)"
   ]
  },
  {
   "cell_type": "code",
   "execution_count": 10,
   "id": "c0bbdb29-bd71-4b4f-9578-6e56005cb76b",
   "metadata": {},
   "outputs": [
    {
     "data": {
      "image/png": "[encoded data removed]",
      "text/plain": [
       "<Figure size 640x480 with 1 Axes>"
      ]
     },
     "metadata": {},
     "output_type": "display_data"
    }
   ],
   "source": [
    "plt.boxplot([tr_x2[:,0], tr_x2[:,1], tr_x2[:,2], tr_x2[:,3],tr_x2[:,4]])\n",
    "plt.show()"
   ]
  },
  {
   "cell_type": "code",
   "execution_count": 11,
   "id": "803fe251-5cad-4635-88ad-b8009cea2ac2",
   "metadata": {},
   "outputs": [
    {
     "data": {
      "text/plain": [
       "0.688"
      ]
     },
     "execution_count": 11,
     "metadata": {},
     "output_type": "execute_result"
    }
   ],
   "source": [
    "model = LogisticRegression().fit(tr_x2, tr_y)\n",
    "pred = model.predict(te_x2)\n",
    "1-np.mean(np.abs(pred-te_y))"
   ]
  },
  {
   "cell_type": "code",
   "execution_count": 12,
   "id": "ffbd3ecb-7258-4cd3-889c-42828cc9066f",
   "metadata": {},
   "outputs": [],
   "source": [
    "tr_x2 = copy.deepcopy(tr_x)\n",
    "te_x2 = copy.deepcopy(te_x)"
   ]
  },
  {
   "cell_type": "code",
   "execution_count": 18,
   "id": "dec42411-fbd1-4cec-bcf1-826b20c489c8",
   "metadata": {},
   "outputs": [],
   "source": [
    "def normalization(x):\n",
    "    r, c = np.shape(x)\n",
    "    for i in range(c):\n",
    "        x[:,i] = (x[:,i] -np.min(x[:,i]))/(np.max(x[:,i])-np.min(x[:,i]))\n",
    "    return x"
   ]
  },
  {
   "cell_type": "code",
   "execution_count": 19,
   "id": "546681e8-209e-438a-8923-2b970a40f7f2",
   "metadata": {},
   "outputs": [],
   "source": [
    "tr_x2 = normalization(tr_x2)\n",
    "te_x2 = normalization(te_x2)"
   ]
  },
  {
   "cell_type": "code",
   "execution_count": 20,
   "id": "110638cb-2e7d-4e70-ad67-23dbdea3bc23",
   "metadata": {},
   "outputs": [
    {
     "data": {
      "image/png": "[encoded data removed]",
      "text/plain": [
       "<Figure size 640x480 with 1 Axes>"
      ]
     },
     "metadata": {},
     "output_type": "display_data"
    }
   ],
   "source": [
    "plt.boxplot([tr_x2[:,0], tr_x2[:,1], tr_x2[:,2], tr_x2[:,3], tr_x2[:,4]])\n",
    "plt.show()"
   ]
  },
  {
   "cell_type": "code",
   "execution_count": 21,
   "id": "74fc3ec8-e8f7-4d40-a142-b51d8b3a7789",
   "metadata": {},
   "outputs": [],
   "source": [
    "## 오를 수도 떨어질수도 0.704"
   ]
  },
  {
   "cell_type": "code",
   "execution_count": 22,
   "id": "66fd3f68-a904-4080-904a-a7b571e78432",
   "metadata": {},
   "outputs": [
    {
     "data": {
      "text/plain": [
       "0.704"
      ]
     },
     "execution_count": 22,
     "metadata": {},
     "output_type": "execute_result"
    }
   ],
   "source": [
    "model = LogisticRegression().fit(tr_x2,tr_y)\n",
    "pred = model.predict(te_x2)\n",
    "1-np.mean(np.abs(pred-te_y))"
   ]
  },
  {
   "cell_type": "code",
   "execution_count": 23,
   "id": "ea883d4f-e0f8-4da1-bac3-4de5ba6a5bfd",
   "metadata": {},
   "outputs": [],
   "source": [
    "tr_x2 = tr_x.copy()\n",
    "te_x2 = te_x.copy()\n",
    "\n",
    "tr_x2 = standadization(tr_x2)\n",
    "te_x2 = standadization(te_x2)"
   ]
  },
  {
   "cell_type": "code",
   "execution_count": 24,
   "id": "2cb491c3-a5b1-46b7-a1a6-e4a59c4f2d3b",
   "metadata": {},
   "outputs": [],
   "source": [
    "def ourlier_deletion(x,y):\n",
    "    r, c = np.shape(x)\n",
    "    for i in range(c):\n",
    "        iqr = np.quantile(tr_x2[:,i], 0.75) - np.quantile(tr_x2[:,i], 0.25)\n",
    "        inx = np.where(x[:,i] < (np.quantile(x[:,i], 0.75) +1.5*iqr))[0]\n",
    "        x = x[inx]\n",
    "        y = y[inx]\n",
    "    return x, y"
   ]
  },
  {
   "cell_type": "code",
   "execution_count": 25,
   "id": "acae16aa-4461-4836-83c9-403c8a1193db",
   "metadata": {},
   "outputs": [],
   "source": [
    "tr_x2, tr_y2 = ourlier_deletion(tr_x2, tr_y)\n",
    "te_x2, te_y2 = ourlier_deletion(te_x2, te_y)"
   ]
  },
  {
   "cell_type": "code",
   "execution_count": 26,
   "id": "7e6218d3-ad78-462e-a09e-a8413a844d82",
   "metadata": {},
   "outputs": [],
   "source": [
    "tr_x2 = normalization(tr_x2)\n",
    "te_x2 = normalization(te_x2)"
   ]
  },
  {
   "cell_type": "code",
   "execution_count": 27,
   "id": "83fb471d-5b50-4d51-9af8-ed0e035d971e",
   "metadata": {},
   "outputs": [
    {
     "data": {
      "text/plain": [
       "0.7142857142857143"
      ]
     },
     "execution_count": 27,
     "metadata": {},
     "output_type": "execute_result"
    }
   ],
   "source": [
    "model = LogisticRegression().fit(tr_x2, tr_y2)\n",
    "pred = model.predict(te_x2)\n",
    "\n",
    "1-np.mean(np.abs(pred-te_y2))"
   ]
  },
  {
   "cell_type": "code",
   "execution_count": 28,
   "id": "8b8b91d1-e3a4-46ca-bafc-e20ae53ad6c6",
   "metadata": {},
   "outputs": [
    {
     "data": {
      "text/plain": [
       "{'whiskers': [<matplotlib.lines.Line2D at 0x2b2c33a70>,\n",
       "  <matplotlib.lines.Line2D at 0x2b2c33da0>,\n",
       "  <matplotlib.lines.Line2D at 0x2b2500fb0>,\n",
       "  <matplotlib.lines.Line2D at 0x2b25012e0>,\n",
       "  <matplotlib.lines.Line2D at 0x2b2502390>,\n",
       "  <matplotlib.lines.Line2D at 0x2b2502630>,\n",
       "  <matplotlib.lines.Line2D at 0x2b25036e0>,\n",
       "  <matplotlib.lines.Line2D at 0x2b25039e0>,\n",
       "  <matplotlib.lines.Line2D at 0x2b25bcad0>,\n",
       "  <matplotlib.lines.Line2D at 0x2b25bcda0>],\n",
       " 'caps': [<matplotlib.lines.Line2D at 0x2b25000b0>,\n",
       "  <matplotlib.lines.Line2D at 0x2b25003b0>,\n",
       "  <matplotlib.lines.Line2D at 0x2b25015e0>,\n",
       "  <matplotlib.lines.Line2D at 0x2b25018e0>,\n",
       "  <matplotlib.lines.Line2D at 0x2b2502900>,\n",
       "  <matplotlib.lines.Line2D at 0x2b2502c00>,\n",
       "  <matplotlib.lines.Line2D at 0x2b2503ce0>,\n",
       "  <matplotlib.lines.Line2D at 0x2b2503fb0>,\n",
       "  <matplotlib.lines.Line2D at 0x2b25bd0a0>,\n",
       "  <matplotlib.lines.Line2D at 0x2b25bd310>],\n",
       " 'boxes': [<matplotlib.lines.Line2D at 0x2b2c33800>,\n",
       "  <matplotlib.lines.Line2D at 0x2b2500c80>,\n",
       "  <matplotlib.lines.Line2D at 0x2b2501f10>,\n",
       "  <matplotlib.lines.Line2D at 0x2b25033e0>,\n",
       "  <matplotlib.lines.Line2D at 0x2b25bc7d0>],\n",
       " 'medians': [<matplotlib.lines.Line2D at 0x2b25006b0>,\n",
       "  <matplotlib.lines.Line2D at 0x2b2501bb0>,\n",
       "  <matplotlib.lines.Line2D at 0x2b2502ed0>,\n",
       "  <matplotlib.lines.Line2D at 0x2b25bc260>,\n",
       "  <matplotlib.lines.Line2D at 0x2b25bd5b0>],\n",
       " 'fliers': [<matplotlib.lines.Line2D at 0x2b25009b0>,\n",
       "  <matplotlib.lines.Line2D at 0x2b2501e50>,\n",
       "  <matplotlib.lines.Line2D at 0x2b2503170>,\n",
       "  <matplotlib.lines.Line2D at 0x2b25bc530>,\n",
       "  <matplotlib.lines.Line2D at 0x2b25bd8b0>],\n",
       " 'means': []}"
      ]
     },
     "execution_count": 28,
     "metadata": {},
     "output_type": "execute_result"
    },
    {
     "data": {
      "image/png": "[encoded data removed]",
      "text/plain": [
       "<Figure size 640x480 with 1 Axes>"
      ]
     },
     "metadata": {},
     "output_type": "display_data"
    }
   ],
   "source": [
    "plt.boxplot([tr_x2[:,0], tr_x2[:,1], tr_x2[:,2], tr_x2[:,3], tr_x2[:,4]])"
   ]
  },
  {
   "cell_type": "code",
   "execution_count": null,
   "id": "78fff5cd-42c9-440b-8f08-7b48b87935f9",
   "metadata": {},
   "outputs": [],
   "source": []
  },
  {
   "cell_type": "code",
   "execution_count": null,
   "id": "66dd4b74-80f0-493e-a50c-1eb0489e0570",
   "metadata": {},
   "outputs": [],
   "source": []
  },
  {
   "cell_type": "code",
   "execution_count": null,
   "id": "97791979-bc39-45e3-ba4a-f11c08e96ee2",
   "metadata": {},
   "outputs": [],
   "source": []
  },
  {
   "cell_type": "code",
   "execution_count": null,
   "id": "b9000ef6-6bf1-4302-b4a2-e7c625dec2de",
   "metadata": {},
   "outputs": [],
   "source": []
  },
  {
   "cell_type": "code",
   "execution_count": null,
   "id": "4c102d5a-6961-4be3-9a65-fe6129454f53",
   "metadata": {},
   "outputs": [],
   "source": []
  },
  {
   "cell_type": "code",
   "execution_count": null,
   "id": "f600b67a-da27-4e70-b1e1-0bdb8c3bdc3b",
   "metadata": {},
   "outputs": [],
   "source": []
  }
 ],
 "metadata": {
  "kernelspec": {
   "display_name": "Python 3 (ipykernel)",
   "language": "python",
   "name": "python3"
  },
  "language_info": {
   "codemirror_mode": {
    "name": "ipython",
    "version": 3
   },
   "file_extension": ".py",
   "mimetype": "text/x-python",
   "name": "python",
   "nbconvert_exporter": "python",
   "pygments_lexer": "ipython3",
   "version": "3.12.1"
  }
 },
 "nbformat": 4,
 "nbformat_minor": 5
}
